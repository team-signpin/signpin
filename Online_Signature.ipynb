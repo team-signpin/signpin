{
  "nbformat": 4,
  "nbformat_minor": 0,
  "metadata": {
    "colab": {
      "name": "Online Signature",
      "provenance": [],
      "collapsed_sections": [],
      "toc_visible": true,
      "mount_file_id": "1vuwXMFMqdlXgmzbShwsS1_91Bo3P54_G",
      "authorship_tag": "ABX9TyM361akwcxrJ7ijmq9x55tI",
      "include_colab_link": true
    },
    "kernelspec": {
      "name": "python3",
      "display_name": "Python 3"
    },
    "language_info": {
      "name": "python"
    }
  },
  "cells": [
    {
      "cell_type": "markdown",
      "metadata": {
        "id": "view-in-github",
        "colab_type": "text"
      },
      "source": [
        "<a href=\"https://colab.research.google.com/github/team-signpin/signpin/blob/main/Online_Signature.ipynb\" target=\"_parent\"><img src=\"https://colab.research.google.com/assets/colab-badge.svg\" alt=\"Open In Colab\"/></a>"
      ]
    },
    {
      "cell_type": "code",
      "execution_count": 46,
      "metadata": {
        "id": "9vJLFk3Q57a7",
        "colab": {
          "base_uri": "https://localhost:8080/"
        },
        "outputId": "fcd12cc7-2017-4321-b2fb-15e2c0fa9d3c"
      },
      "outputs": [
        {
          "output_type": "stream",
          "name": "stdout",
          "text": [
            "Drive already mounted at /content/drive; to attempt to forcibly remount, call drive.mount(\"/content/drive\", force_remount=True).\n"
          ]
        }
      ],
      "source": [
        "from google.colab import drive\n",
        "drive.mount('/content/drive')"
      ]
    },
    {
      "cell_type": "code",
      "source": [
        "import json\n",
        "import numpy as np\n",
        "from sklearn.preprocessing import normalize\n",
        "import matplotlib.pyplot as plt"
      ],
      "metadata": {
        "id": "1rfXk48Hx2Ww"
      },
      "execution_count": 47,
      "outputs": []
    },
    {
      "cell_type": "code",
      "source": [
        "import os\n",
        "\n",
        "# [x[0] for x in os.walk(\"./\")]\n",
        "#for x in next(os.walk('./drive/MyDrive/Work/Thesis/MOBISIG/USER1'))[2]:\n",
        "# print(x)"
      ],
      "metadata": {
        "id": "0KILxwr0u-gK"
      },
      "execution_count": 48,
      "outputs": []
    },
    {
      "cell_type": "code",
      "source": [
        "import pandas as pd\n",
        "signature1 = pd.read_csv('/content/drive/MyDrive/Work/Thesis/MOBISIG/USER1/SIGN_FOR_USER1_USER2_2.csv')\n",
        "signature1.head()"
      ],
      "metadata": {
        "id": "4EMGRkRdwW_Q",
        "colab": {
          "base_uri": "https://localhost:8080/",
          "height": 206
        },
        "outputId": "98483150-fb78-4a76-885b-15c37ebf4a7f"
      },
      "execution_count": 49,
      "outputs": [
        {
          "output_type": "execute_result",
          "data": {
            "text/plain": [
              "           x          y  timestamp  pressure  fingerarea   velocityx  \\\n",
              "0  419.34134  564.96450    9013372    0.7125    0.127660    0.000000   \n",
              "1  419.34134  564.96450    9013396    0.7250    0.127660    0.029627   \n",
              "2  419.34134  564.96450    9013429    0.7125    0.085106    0.022956   \n",
              "3  425.52330  525.40370    9013446    0.7000    0.117021  276.981260   \n",
              "4  436.22290  480.65332    9013463    0.6750    0.074468  606.211850   \n",
              "\n",
              "     velocityy    accelx    accely    accelz  gyrox  gyroy  gyroz  \n",
              "0     0.000000 -0.002936 -0.025108 -0.046257    0.0    0.0    0.0  \n",
              "1     0.037344 -0.002936 -0.025108 -0.046257    0.0    0.0    0.0  \n",
              "2     0.029352 -0.002936 -0.025108 -0.046257    0.0    0.0    0.0  \n",
              "3 -1857.441900 -0.002936 -0.025108 -0.046257    0.0    0.0    0.0  \n",
              "4 -3012.173300 -0.002936 -0.025108 -0.046257    0.0    0.0    0.0  "
            ],
            "text/html": [
              "\n",
              "  <div id=\"df-097bfa1b-ac44-4c66-8888-ddd8a9dc01bd\">\n",
              "    <div class=\"colab-df-container\">\n",
              "      <div>\n",
              "<style scoped>\n",
              "    .dataframe tbody tr th:only-of-type {\n",
              "        vertical-align: middle;\n",
              "    }\n",
              "\n",
              "    .dataframe tbody tr th {\n",
              "        vertical-align: top;\n",
              "    }\n",
              "\n",
              "    .dataframe thead th {\n",
              "        text-align: right;\n",
              "    }\n",
              "</style>\n",
              "<table border=\"1\" class=\"dataframe\">\n",
              "  <thead>\n",
              "    <tr style=\"text-align: right;\">\n",
              "      <th></th>\n",
              "      <th>x</th>\n",
              "      <th>y</th>\n",
              "      <th>timestamp</th>\n",
              "      <th>pressure</th>\n",
              "      <th>fingerarea</th>\n",
              "      <th>velocityx</th>\n",
              "      <th>velocityy</th>\n",
              "      <th>accelx</th>\n",
              "      <th>accely</th>\n",
              "      <th>accelz</th>\n",
              "      <th>gyrox</th>\n",
              "      <th>gyroy</th>\n",
              "      <th>gyroz</th>\n",
              "    </tr>\n",
              "  </thead>\n",
              "  <tbody>\n",
              "    <tr>\n",
              "      <th>0</th>\n",
              "      <td>419.34134</td>\n",
              "      <td>564.96450</td>\n",
              "      <td>9013372</td>\n",
              "      <td>0.7125</td>\n",
              "      <td>0.127660</td>\n",
              "      <td>0.000000</td>\n",
              "      <td>0.000000</td>\n",
              "      <td>-0.002936</td>\n",
              "      <td>-0.025108</td>\n",
              "      <td>-0.046257</td>\n",
              "      <td>0.0</td>\n",
              "      <td>0.0</td>\n",
              "      <td>0.0</td>\n",
              "    </tr>\n",
              "    <tr>\n",
              "      <th>1</th>\n",
              "      <td>419.34134</td>\n",
              "      <td>564.96450</td>\n",
              "      <td>9013396</td>\n",
              "      <td>0.7250</td>\n",
              "      <td>0.127660</td>\n",
              "      <td>0.029627</td>\n",
              "      <td>0.037344</td>\n",
              "      <td>-0.002936</td>\n",
              "      <td>-0.025108</td>\n",
              "      <td>-0.046257</td>\n",
              "      <td>0.0</td>\n",
              "      <td>0.0</td>\n",
              "      <td>0.0</td>\n",
              "    </tr>\n",
              "    <tr>\n",
              "      <th>2</th>\n",
              "      <td>419.34134</td>\n",
              "      <td>564.96450</td>\n",
              "      <td>9013429</td>\n",
              "      <td>0.7125</td>\n",
              "      <td>0.085106</td>\n",
              "      <td>0.022956</td>\n",
              "      <td>0.029352</td>\n",
              "      <td>-0.002936</td>\n",
              "      <td>-0.025108</td>\n",
              "      <td>-0.046257</td>\n",
              "      <td>0.0</td>\n",
              "      <td>0.0</td>\n",
              "      <td>0.0</td>\n",
              "    </tr>\n",
              "    <tr>\n",
              "      <th>3</th>\n",
              "      <td>425.52330</td>\n",
              "      <td>525.40370</td>\n",
              "      <td>9013446</td>\n",
              "      <td>0.7000</td>\n",
              "      <td>0.117021</td>\n",
              "      <td>276.981260</td>\n",
              "      <td>-1857.441900</td>\n",
              "      <td>-0.002936</td>\n",
              "      <td>-0.025108</td>\n",
              "      <td>-0.046257</td>\n",
              "      <td>0.0</td>\n",
              "      <td>0.0</td>\n",
              "      <td>0.0</td>\n",
              "    </tr>\n",
              "    <tr>\n",
              "      <th>4</th>\n",
              "      <td>436.22290</td>\n",
              "      <td>480.65332</td>\n",
              "      <td>9013463</td>\n",
              "      <td>0.6750</td>\n",
              "      <td>0.074468</td>\n",
              "      <td>606.211850</td>\n",
              "      <td>-3012.173300</td>\n",
              "      <td>-0.002936</td>\n",
              "      <td>-0.025108</td>\n",
              "      <td>-0.046257</td>\n",
              "      <td>0.0</td>\n",
              "      <td>0.0</td>\n",
              "      <td>0.0</td>\n",
              "    </tr>\n",
              "  </tbody>\n",
              "</table>\n",
              "</div>\n",
              "      <button class=\"colab-df-convert\" onclick=\"convertToInteractive('df-097bfa1b-ac44-4c66-8888-ddd8a9dc01bd')\"\n",
              "              title=\"Convert this dataframe to an interactive table.\"\n",
              "              style=\"display:none;\">\n",
              "        \n",
              "  <svg xmlns=\"http://www.w3.org/2000/svg\" height=\"24px\"viewBox=\"0 0 24 24\"\n",
              "       width=\"24px\">\n",
              "    <path d=\"M0 0h24v24H0V0z\" fill=\"none\"/>\n",
              "    <path d=\"M18.56 5.44l.94 2.06.94-2.06 2.06-.94-2.06-.94-.94-2.06-.94 2.06-2.06.94zm-11 1L8.5 8.5l.94-2.06 2.06-.94-2.06-.94L8.5 2.5l-.94 2.06-2.06.94zm10 10l.94 2.06.94-2.06 2.06-.94-2.06-.94-.94-2.06-.94 2.06-2.06.94z\"/><path d=\"M17.41 7.96l-1.37-1.37c-.4-.4-.92-.59-1.43-.59-.52 0-1.04.2-1.43.59L10.3 9.45l-7.72 7.72c-.78.78-.78 2.05 0 2.83L4 21.41c.39.39.9.59 1.41.59.51 0 1.02-.2 1.41-.59l7.78-7.78 2.81-2.81c.8-.78.8-2.07 0-2.86zM5.41 20L4 18.59l7.72-7.72 1.47 1.35L5.41 20z\"/>\n",
              "  </svg>\n",
              "      </button>\n",
              "      \n",
              "  <style>\n",
              "    .colab-df-container {\n",
              "      display:flex;\n",
              "      flex-wrap:wrap;\n",
              "      gap: 12px;\n",
              "    }\n",
              "\n",
              "    .colab-df-convert {\n",
              "      background-color: #E8F0FE;\n",
              "      border: none;\n",
              "      border-radius: 50%;\n",
              "      cursor: pointer;\n",
              "      display: none;\n",
              "      fill: #1967D2;\n",
              "      height: 32px;\n",
              "      padding: 0 0 0 0;\n",
              "      width: 32px;\n",
              "    }\n",
              "\n",
              "    .colab-df-convert:hover {\n",
              "      background-color: #E2EBFA;\n",
              "      box-shadow: 0px 1px 2px rgba(60, 64, 67, 0.3), 0px 1px 3px 1px rgba(60, 64, 67, 0.15);\n",
              "      fill: #174EA6;\n",
              "    }\n",
              "\n",
              "    [theme=dark] .colab-df-convert {\n",
              "      background-color: #3B4455;\n",
              "      fill: #D2E3FC;\n",
              "    }\n",
              "\n",
              "    [theme=dark] .colab-df-convert:hover {\n",
              "      background-color: #434B5C;\n",
              "      box-shadow: 0px 1px 3px 1px rgba(0, 0, 0, 0.15);\n",
              "      filter: drop-shadow(0px 1px 2px rgba(0, 0, 0, 0.3));\n",
              "      fill: #FFFFFF;\n",
              "    }\n",
              "  </style>\n",
              "\n",
              "      <script>\n",
              "        const buttonEl =\n",
              "          document.querySelector('#df-097bfa1b-ac44-4c66-8888-ddd8a9dc01bd button.colab-df-convert');\n",
              "        buttonEl.style.display =\n",
              "          google.colab.kernel.accessAllowed ? 'block' : 'none';\n",
              "\n",
              "        async function convertToInteractive(key) {\n",
              "          const element = document.querySelector('#df-097bfa1b-ac44-4c66-8888-ddd8a9dc01bd');\n",
              "          const dataTable =\n",
              "            await google.colab.kernel.invokeFunction('convertToInteractive',\n",
              "                                                     [key], {});\n",
              "          if (!dataTable) return;\n",
              "\n",
              "          const docLinkHtml = 'Like what you see? Visit the ' +\n",
              "            '<a target=\"_blank\" href=https://colab.research.google.com/notebooks/data_table.ipynb>data table notebook</a>'\n",
              "            + ' to learn more about interactive tables.';\n",
              "          element.innerHTML = '';\n",
              "          dataTable['output_type'] = 'display_data';\n",
              "          await google.colab.output.renderOutput(dataTable, element);\n",
              "          const docLink = document.createElement('div');\n",
              "          docLink.innerHTML = docLinkHtml;\n",
              "          element.appendChild(docLink);\n",
              "        }\n",
              "      </script>\n",
              "    </div>\n",
              "  </div>\n",
              "  "
            ]
          },
          "metadata": {},
          "execution_count": 49
        }
      ]
    },
    {
      "cell_type": "code",
      "source": [
        "s1_coords = signature1.iloc[:,:2]\n",
        "s1_coords"
      ],
      "metadata": {
        "id": "1K_8V4hoxcTX",
        "colab": {
          "base_uri": "https://localhost:8080/",
          "height": 424
        },
        "outputId": "c55a69fb-92bc-41a9-fc7f-47fd4b3507a4"
      },
      "execution_count": 50,
      "outputs": [
        {
          "output_type": "execute_result",
          "data": {
            "text/plain": [
              "             x          y\n",
              "0    419.34134  564.96450\n",
              "1    419.34134  564.96450\n",
              "2    419.34134  564.96450\n",
              "3    425.52330  525.40370\n",
              "4    436.22290  480.65332\n",
              "..         ...        ...\n",
              "141  927.80164  469.99194\n",
              "142  950.91940  444.88843\n",
              "143  972.65660  426.43884\n",
              "144  979.65894  420.13843\n",
              "145  979.65894  420.13843\n",
              "\n",
              "[146 rows x 2 columns]"
            ],
            "text/html": [
              "\n",
              "  <div id=\"df-6dc4ac36-2caf-49b0-8ded-88979f3b8cd1\">\n",
              "    <div class=\"colab-df-container\">\n",
              "      <div>\n",
              "<style scoped>\n",
              "    .dataframe tbody tr th:only-of-type {\n",
              "        vertical-align: middle;\n",
              "    }\n",
              "\n",
              "    .dataframe tbody tr th {\n",
              "        vertical-align: top;\n",
              "    }\n",
              "\n",
              "    .dataframe thead th {\n",
              "        text-align: right;\n",
              "    }\n",
              "</style>\n",
              "<table border=\"1\" class=\"dataframe\">\n",
              "  <thead>\n",
              "    <tr style=\"text-align: right;\">\n",
              "      <th></th>\n",
              "      <th>x</th>\n",
              "      <th>y</th>\n",
              "    </tr>\n",
              "  </thead>\n",
              "  <tbody>\n",
              "    <tr>\n",
              "      <th>0</th>\n",
              "      <td>419.34134</td>\n",
              "      <td>564.96450</td>\n",
              "    </tr>\n",
              "    <tr>\n",
              "      <th>1</th>\n",
              "      <td>419.34134</td>\n",
              "      <td>564.96450</td>\n",
              "    </tr>\n",
              "    <tr>\n",
              "      <th>2</th>\n",
              "      <td>419.34134</td>\n",
              "      <td>564.96450</td>\n",
              "    </tr>\n",
              "    <tr>\n",
              "      <th>3</th>\n",
              "      <td>425.52330</td>\n",
              "      <td>525.40370</td>\n",
              "    </tr>\n",
              "    <tr>\n",
              "      <th>4</th>\n",
              "      <td>436.22290</td>\n",
              "      <td>480.65332</td>\n",
              "    </tr>\n",
              "    <tr>\n",
              "      <th>...</th>\n",
              "      <td>...</td>\n",
              "      <td>...</td>\n",
              "    </tr>\n",
              "    <tr>\n",
              "      <th>141</th>\n",
              "      <td>927.80164</td>\n",
              "      <td>469.99194</td>\n",
              "    </tr>\n",
              "    <tr>\n",
              "      <th>142</th>\n",
              "      <td>950.91940</td>\n",
              "      <td>444.88843</td>\n",
              "    </tr>\n",
              "    <tr>\n",
              "      <th>143</th>\n",
              "      <td>972.65660</td>\n",
              "      <td>426.43884</td>\n",
              "    </tr>\n",
              "    <tr>\n",
              "      <th>144</th>\n",
              "      <td>979.65894</td>\n",
              "      <td>420.13843</td>\n",
              "    </tr>\n",
              "    <tr>\n",
              "      <th>145</th>\n",
              "      <td>979.65894</td>\n",
              "      <td>420.13843</td>\n",
              "    </tr>\n",
              "  </tbody>\n",
              "</table>\n",
              "<p>146 rows × 2 columns</p>\n",
              "</div>\n",
              "      <button class=\"colab-df-convert\" onclick=\"convertToInteractive('df-6dc4ac36-2caf-49b0-8ded-88979f3b8cd1')\"\n",
              "              title=\"Convert this dataframe to an interactive table.\"\n",
              "              style=\"display:none;\">\n",
              "        \n",
              "  <svg xmlns=\"http://www.w3.org/2000/svg\" height=\"24px\"viewBox=\"0 0 24 24\"\n",
              "       width=\"24px\">\n",
              "    <path d=\"M0 0h24v24H0V0z\" fill=\"none\"/>\n",
              "    <path d=\"M18.56 5.44l.94 2.06.94-2.06 2.06-.94-2.06-.94-.94-2.06-.94 2.06-2.06.94zm-11 1L8.5 8.5l.94-2.06 2.06-.94-2.06-.94L8.5 2.5l-.94 2.06-2.06.94zm10 10l.94 2.06.94-2.06 2.06-.94-2.06-.94-.94-2.06-.94 2.06-2.06.94z\"/><path d=\"M17.41 7.96l-1.37-1.37c-.4-.4-.92-.59-1.43-.59-.52 0-1.04.2-1.43.59L10.3 9.45l-7.72 7.72c-.78.78-.78 2.05 0 2.83L4 21.41c.39.39.9.59 1.41.59.51 0 1.02-.2 1.41-.59l7.78-7.78 2.81-2.81c.8-.78.8-2.07 0-2.86zM5.41 20L4 18.59l7.72-7.72 1.47 1.35L5.41 20z\"/>\n",
              "  </svg>\n",
              "      </button>\n",
              "      \n",
              "  <style>\n",
              "    .colab-df-container {\n",
              "      display:flex;\n",
              "      flex-wrap:wrap;\n",
              "      gap: 12px;\n",
              "    }\n",
              "\n",
              "    .colab-df-convert {\n",
              "      background-color: #E8F0FE;\n",
              "      border: none;\n",
              "      border-radius: 50%;\n",
              "      cursor: pointer;\n",
              "      display: none;\n",
              "      fill: #1967D2;\n",
              "      height: 32px;\n",
              "      padding: 0 0 0 0;\n",
              "      width: 32px;\n",
              "    }\n",
              "\n",
              "    .colab-df-convert:hover {\n",
              "      background-color: #E2EBFA;\n",
              "      box-shadow: 0px 1px 2px rgba(60, 64, 67, 0.3), 0px 1px 3px 1px rgba(60, 64, 67, 0.15);\n",
              "      fill: #174EA6;\n",
              "    }\n",
              "\n",
              "    [theme=dark] .colab-df-convert {\n",
              "      background-color: #3B4455;\n",
              "      fill: #D2E3FC;\n",
              "    }\n",
              "\n",
              "    [theme=dark] .colab-df-convert:hover {\n",
              "      background-color: #434B5C;\n",
              "      box-shadow: 0px 1px 3px 1px rgba(0, 0, 0, 0.15);\n",
              "      filter: drop-shadow(0px 1px 2px rgba(0, 0, 0, 0.3));\n",
              "      fill: #FFFFFF;\n",
              "    }\n",
              "  </style>\n",
              "\n",
              "      <script>\n",
              "        const buttonEl =\n",
              "          document.querySelector('#df-6dc4ac36-2caf-49b0-8ded-88979f3b8cd1 button.colab-df-convert');\n",
              "        buttonEl.style.display =\n",
              "          google.colab.kernel.accessAllowed ? 'block' : 'none';\n",
              "\n",
              "        async function convertToInteractive(key) {\n",
              "          const element = document.querySelector('#df-6dc4ac36-2caf-49b0-8ded-88979f3b8cd1');\n",
              "          const dataTable =\n",
              "            await google.colab.kernel.invokeFunction('convertToInteractive',\n",
              "                                                     [key], {});\n",
              "          if (!dataTable) return;\n",
              "\n",
              "          const docLinkHtml = 'Like what you see? Visit the ' +\n",
              "            '<a target=\"_blank\" href=https://colab.research.google.com/notebooks/data_table.ipynb>data table notebook</a>'\n",
              "            + ' to learn more about interactive tables.';\n",
              "          element.innerHTML = '';\n",
              "          dataTable['output_type'] = 'display_data';\n",
              "          await google.colab.output.renderOutput(dataTable, element);\n",
              "          const docLink = document.createElement('div');\n",
              "          docLink.innerHTML = docLinkHtml;\n",
              "          element.appendChild(docLink);\n",
              "        }\n",
              "      </script>\n",
              "    </div>\n",
              "  </div>\n",
              "  "
            ]
          },
          "metadata": {},
          "execution_count": 50
        }
      ]
    },
    {
      "cell_type": "code",
      "source": [
        "s1_coords.plot()"
      ],
      "metadata": {
        "id": "NcpX001RzyV9",
        "colab": {
          "base_uri": "https://localhost:8080/",
          "height": 282
        },
        "outputId": "656d1572-6230-4d77-af09-bd8614bffef2"
      },
      "execution_count": 51,
      "outputs": [
        {
          "output_type": "execute_result",
          "data": {
            "text/plain": [
              "<matplotlib.axes._subplots.AxesSubplot at 0x7f5666afd110>"
            ]
          },
          "metadata": {},
          "execution_count": 51
        },
        {
          "output_type": "display_data",
          "data": {
            "text/plain": [
              "<Figure size 432x288 with 1 Axes>"
            ],
            "image/png": "[encoded data removed]"
          },
          "metadata": {
            "needs_background": "light"
          }
        }
      ]
    },
    {
      "cell_type": "markdown",
      "source": [
        "## Fetch all signatures related to a single user\n",
        "\n"
      ],
      "metadata": {
        "id": "bjMCN18iXBZR"
      }
    },
    {
      "cell_type": "code",
      "source": [
        "# list of all users files\n",
        "from os import listdir\n",
        "user_list = listdir(\"./drive/MyDrive/Work/Thesis/MOBISIG\")\n",
        "user_list = user_list[2:] # removes stats and users file\n",
        "user_list = [int(x[4:]) for x in user_list]\n",
        "user_list.sort()\n",
        "user_list = [\"USER\" + str(x) for x in user_list]\n",
        "user_list[:5]"
      ],
      "metadata": {
        "id": "pYtYN2YgW_Ed",
        "colab": {
          "base_uri": "https://localhost:8080/"
        },
        "outputId": "c129f5a4-2992-497c-a63c-96a2718de84d"
      },
      "execution_count": 52,
      "outputs": [
        {
          "output_type": "execute_result",
          "data": {
            "text/plain": [
              "['USER1', 'USER2', 'USER3', 'USER4', 'USER5']"
            ]
          },
          "metadata": {},
          "execution_count": 52
        }
      ]
    },
    {
      "cell_type": "markdown",
      "source": [
        "## Fetch all signatures related to a single user"
      ],
      "metadata": {
        "id": "Bk-KR8EAZpU5"
      }
    },
    {
      "cell_type": "code",
      "source": [
        "# fetch all file names of user_id\n",
        "def all_files_related_to(user_id):\n",
        "  user_list = listdir(\"./drive/MyDrive/Work/Thesis/MOBISIG/USER\" + str(user_id) + \"/\")\n",
        "  return user_list\n",
        "\n",
        "all_files_related_to(1)[:5]"
      ],
      "metadata": {
        "id": "-WJsokj6Zvaz",
        "colab": {
          "base_uri": "https://localhost:8080/"
        },
        "outputId": "89514404-d77e-4c2b-da84-dd1f8397b943"
      },
      "execution_count": 53,
      "outputs": [
        {
          "output_type": "execute_result",
          "data": {
            "text/plain": [
              "['SIGN_GEN_USER1_USER1_26.csv',\n",
              " 'SIGN_FOR_USER1_USER4_20.csv',\n",
              " 'SIGN_GEN_USER1_USER1_40.csv',\n",
              " 'SIGN_GEN_USER1_USER1_36.csv',\n",
              " 'SIGN_GEN_USER1_USER1_11.csv']"
            ]
          },
          "metadata": {},
          "execution_count": 53
        }
      ]
    },
    {
      "cell_type": "markdown",
      "source": [
        "## Fetched all the original signatures"
      ],
      "metadata": {
        "id": "qAIsNEHu-727"
      }
    },
    {
      "cell_type": "code",
      "source": [
        "# array of original signatures\n",
        "user_id = 1\n",
        "orig_sigs = []\n",
        "for i in range(1, 46):\n",
        "  sig_data = pd.read_csv(f\"/content/drive/MyDrive/Work/Thesis/MOBISIG/USER1/SIGN_GEN_USER{user_id}_USER{user_id}_\" + str(i) +'.csv')\n",
        "  sig_data = sig_data.iloc[:, :3]\n",
        "  orig_sigs.append(sig_data)\n",
        "\n",
        "# pd.read_csv('/content/drive/MyDrive/Work/Thesis/MOBISIG/USER1/SIGN_GEN_USER1_USER1_1.csv')\n",
        "print(\"Shape of a signature\", orig_sigs[0].shape)"
      ],
      "metadata": {
        "id": "YogdtUjdAFI4",
        "colab": {
          "base_uri": "https://localhost:8080/"
        },
        "outputId": "64e961e6-11be-445b-c5b5-62b3102d208b"
      },
      "execution_count": 54,
      "outputs": [
        {
          "output_type": "stream",
          "name": "stdout",
          "text": [
            "Shape of a signature (147, 3)\n"
          ]
        }
      ]
    },
    {
      "cell_type": "markdown",
      "source": [
        "## Normalized the signature into fixed number of data points"
      ],
      "metadata": {
        "id": "qeRB13KJU-32"
      }
    },
    {
      "cell_type": "code",
      "source": [
        "import math\n",
        "def distance(p1, p2):\n",
        "  return math.sqrt( ((p1[0]-p2[0])**2)+((p1[1]-p2[1])**2) )\n",
        "\n",
        "\n",
        "def midDistance(data, n):\n",
        "  dis = data[:, 3]\n",
        "  given_di = n\n",
        "  end_point = np.searchsorted(dis, given_di)\n",
        "  end_point_vdi = data[end_point, 3]\n",
        "  start_point_vdi = data[end_point - 1, 3]\n",
        "  start_d_point = data[end_point-1];\n",
        "  end_d_point = data[end_point]\n",
        "  div = (given_di - start_point_vdi) / (end_point_vdi - start_point_vdi)\n",
        "\n",
        "  new_point_x = (end_d_point[0] - start_d_point[0])*div + start_d_point[0]\n",
        "  new_point_y = (end_d_point[1] - start_d_point[1])*div + start_d_point[1]\n",
        "  \n",
        "  new_point = [new_point_x, new_point_y, start_d_point[2], start_d_point[3], given_di]\n",
        "  new_point = [round(x, 5) for x in new_point]\n",
        "  return new_point\n",
        "\n",
        "def cumulativeDistance(data):\n",
        "  # FIXME more accurate, print to see the issue in the beginning and ending\n",
        "  data = np.pad(data, ((0, 0), (0, 1)), mode='constant', constant_values=0)\n",
        "  c_data = data\n",
        "  sum = 0\n",
        "  for i in range(0, len(data) -1):\n",
        "    c_data[i][3] = sum\n",
        "    next_point = [c_data[i+1][0], c_data[i+1][1]]\n",
        "    current_point = [c_data[i][0], c_data[i][1]]\n",
        "    sum += distance(current_point, next_point)\n",
        "  return c_data\n",
        "\n",
        "\n",
        "def normalizeByDistance(data, n):\n",
        "  c_data = cumulativeDistance(data)\n",
        "  # print(\"c_data\", c_data.shape)\n",
        "  total_distance = c_data[-2][3]\n",
        "  # print(f'total distance: {total_distance}')\n",
        "  return np.array([ midDistance(c_data, (total_distance/n) * x) for x in range(1,n)])\n",
        "\n",
        "\n",
        "def normalizeSign(orig_sig):\n",
        "  tmp_np = np.array(orig_sig)\n",
        "  tmp_normalized = normalizeByDistance(tmp_np, 91)\n",
        "  tmp_normalized = tmp_normalized.astype(np.float32)\n",
        "  return tmp_normalized / 1200\n",
        "\n",
        "\n",
        "tmp = normalizeSign(orig_sigs[0])\n",
        "plt.plot(tmp[:,0], tmp[:,1], \"bo\")\n",
        "plt.plot(tmp[:,0], tmp[:,1])\n",
        "print(\"shape of a signature\", tmp.shape)"
      ],
      "metadata": {
        "id": "qceWN3Zq01yU",
        "colab": {
          "base_uri": "https://localhost:8080/",
          "height": 282
        },
        "outputId": "17b1a5b2-e6c3-42c1-ee16-c32c9f979674"
      },
      "execution_count": 55,
      "outputs": [
        {
          "output_type": "stream",
          "name": "stdout",
          "text": [
            "shape of a signature (90, 5)\n"
          ]
        },
        {
          "output_type": "display_data",
          "data": {
            "text/plain": [
              "<Figure size 432x288 with 1 Axes>"
            ],
            "image/png": "[encoded data removed]"
          },
          "metadata": {
            "needs_background": "light"
          }
        }
      ]
    },
    {
      "cell_type": "markdown",
      "source": [
        "## Fetch forged signatures"
      ],
      "metadata": {
        "id": "_EGcvK1qJ31Q"
      }
    },
    {
      "cell_type": "code",
      "source": [
        "# List all signature files of a user\n",
        "from os import listdir\n",
        "user_sign_path = \"./drive/MyDrive/Work/Thesis/MOBISIG/USER\" + str(user_id)\n",
        "sign_list = listdir(user_sign_path)\n",
        "sig_data_dict = {}\n",
        "for sign in sign_list:\n",
        "  tmp_sig_data = pd.read_csv(f\"{user_sign_path}/{sign}\")\n",
        "  sig_data_dict[sign] = tmp_sig_data.iloc[:, :3]\n",
        "\n",
        "len(sig_data_dict)"
      ],
      "metadata": {
        "colab": {
          "base_uri": "https://localhost:8080/"
        },
        "id": "Bir5ZGxfJaXL",
        "outputId": "307c0235-0af7-4c57-b968-0c3b50f38281"
      },
      "execution_count": 56,
      "outputs": [
        {
          "output_type": "execute_result",
          "data": {
            "text/plain": [
              "65"
            ]
          },
          "metadata": {},
          "execution_count": 56
        }
      ]
    },
    {
      "cell_type": "code",
      "source": [
        "# Normalize and label\n",
        "normalized_signs_dict = {}\n",
        "for key, value in sig_data_dict.items():\n",
        "  # print(key[5:8], value.shape)\n",
        "  try:\n",
        "    normalized_signs_dict[key] = normalizeSign(value)\n",
        "  except IndexError as e:\n",
        "    print(key, e)\n",
        "\n",
        "\n",
        "len(normalized_signs_dict)"
      ],
      "metadata": {
        "colab": {
          "base_uri": "https://localhost:8080/"
        },
        "id": "MgYp_a1WTFQE",
        "outputId": "ea6e91be-f7d1-44e5-dde1-84541b82dc72"
      },
      "execution_count": 57,
      "outputs": [
        {
          "output_type": "stream",
          "name": "stdout",
          "text": [
            "SIGN_FOR_USER1_USER3_10.csv index 223 is out of bounds for axis 0 with size 223\n",
            "SIGN_GEN_USER1_USER1_8.csv index 126 is out of bounds for axis 0 with size 126\n"
          ]
        },
        {
          "output_type": "execute_result",
          "data": {
            "text/plain": [
              "63"
            ]
          },
          "metadata": {},
          "execution_count": 57
        }
      ]
    },
    {
      "cell_type": "code",
      "source": [
        "# trying to plot a normalized sign\n",
        "\n",
        "\n",
        "# tmp = normalized_signs[3]\n",
        "last = []\n",
        "for key, tmp in normalized_signs_dict.items():\n",
        "  # plt.plot(tmp[:,0], tmp[:,1], \"bo\")\n",
        "  tmp = tmp[:,:4]\n",
        "  last = tmp\n",
        "  try:\n",
        "    plt.plot(tmp[:,0], tmp[:,1])\n",
        "  except TypeError as e:\n",
        "    print(e)\n",
        "\n",
        "len(last)\n",
        "last.shape"
      ],
      "metadata": {
        "colab": {
          "base_uri": "https://localhost:8080/",
          "height": 283
        },
        "id": "gVmG0NeYV6xc",
        "outputId": "f4db270a-459c-4dce-cd77-3b1c8886bc89"
      },
      "execution_count": 58,
      "outputs": [
        {
          "output_type": "execute_result",
          "data": {
            "text/plain": [
              "(90, 4)"
            ]
          },
          "metadata": {},
          "execution_count": 58
        },
        {
          "output_type": "display_data",
          "data": {
            "text/plain": [
              "<Figure size 432x288 with 1 Axes>"
            ],
            "image/png": "[encoded data removed]"
          },
          "metadata": {
            "needs_background": "light"
          }
        }
      ]
    },
    {
      "cell_type": "markdown",
      "source": [
        "Reshaped"
      ],
      "metadata": {
        "id": "2lvhetTnyg1U"
      }
    },
    {
      "cell_type": "code",
      "source": [
        "# Reshaped\n",
        "\n",
        "reshaped_signs_dict = {}\n",
        "\n",
        "for key, value in normalized_signs_dict.items():\n",
        "  # tmp = value[:, :3]\n",
        "  reshaped_signs_dict[key] = tmp #.reshape(90*3)\n",
        "\n",
        "reshaped_signs_dict.keys()\n",
        "list(reshaped_signs_dict.values())[0].shape, len(reshaped_signs_dict)"
      ],
      "metadata": {
        "colab": {
          "base_uri": "https://localhost:8080/"
        },
        "id": "iyD4JFHxyiqP",
        "outputId": "38c7afb8-5f88-427e-9fde-b471e73a8309"
      },
      "execution_count": 59,
      "outputs": [
        {
          "output_type": "execute_result",
          "data": {
            "text/plain": [
              "((90, 4), 63)"
            ]
          },
          "metadata": {},
          "execution_count": 59
        }
      ]
    },
    {
      "cell_type": "markdown",
      "source": [
        "## Preparing labels"
      ],
      "metadata": {
        "id": "F1z5EtyG8SwF"
      }
    },
    {
      "cell_type": "code",
      "source": [
        "# Preparing labels\n",
        "\n",
        "tmp_labels = reshaped_signs_dict.keys()\n",
        "tmp_labels = list(tmp_labels)\n",
        "labels = []\n",
        "\n",
        "for label in tmp_labels:\n",
        "  if label[5:8] == \"FOR\":\n",
        "    labels.append(np.array([0]))\n",
        "  elif label[5:8] == \"GEN\":\n",
        "    labels.append(np.array([1]))\n",
        "\n",
        "len(labels)"
      ],
      "metadata": {
        "colab": {
          "base_uri": "https://localhost:8080/"
        },
        "id": "Ej11XGl22tyg",
        "outputId": "733866b8-43ca-484d-e3d8-3f43bca7e6d7"
      },
      "execution_count": 60,
      "outputs": [
        {
          "output_type": "execute_result",
          "data": {
            "text/plain": [
              "63"
            ]
          },
          "metadata": {},
          "execution_count": 60
        }
      ]
    },
    {
      "cell_type": "markdown",
      "source": [
        "## Created a table like the following\n",
        "\n",
        "\n",
        "| signature dataframe | label | means |\n",
        "| --- | --- | :-: |\n",
        "| SIG[] | 0 | FORGED |\n",
        "| SIG[] | 1 | ORIGINAL |\n",
        "| SIG[] | 0 | FORGED |\n",
        "| SIG[] | 0 | FORGED |\n",
        "\n",
        "Here signature dataframe is a matrix of a single signature attempt.\n",
        "\n",
        "Original Signatures: **45**<br/>\n",
        "Forge attempts: **18**"
      ],
      "metadata": {
        "id": "XELkLfG6aQEg"
      }
    },
    {
      "cell_type": "markdown",
      "source": [
        "## Creating models\n",
        "### ANN model"
      ],
      "metadata": {
        "id": "naJspwvsysrr"
      }
    },
    {
      "cell_type": "code",
      "source": [
        "import tensorflow as tf\n",
        "\n",
        "\n",
        "# Creating model\n",
        "model = tf.keras.Sequential()\n",
        "model.add(tf.keras.layers.Dense(256, activation=tf.nn.relu, input_shape=(270,)))\n",
        "model.add(tf.keras.layers.Dense(1, activation=tf.nn.softmax))\n",
        "\n",
        "# We will now compile and print out a summary of our model\n",
        "model.compile(\n",
        "    loss='categorical_crossentropy',\n",
        "    optimizer='rmsprop',\n",
        "    metrics=['accuracy'])\n",
        "\n",
        "model.summary()"
      ],
      "metadata": {
        "colab": {
          "base_uri": "https://localhost:8080/"
        },
        "id": "XFT-oOA0wRct",
        "outputId": "39d59d95-5d6c-43d1-9189-c9e88a158b84"
      },
      "execution_count": 61,
      "outputs": [
        {
          "output_type": "stream",
          "name": "stdout",
          "text": [
            "Model: \"sequential_3\"\n",
            "_________________________________________________________________\n",
            " Layer (type)                Output Shape              Param #   \n",
            "=================================================================\n",
            " dense_2 (Dense)             (None, 256)               69376     \n",
            "                                                                 \n",
            " dense_3 (Dense)             (None, 1)                 257       \n",
            "                                                                 \n",
            "=================================================================\n",
            "Total params: 69,633\n",
            "Trainable params: 69,633\n",
            "Non-trainable params: 0\n",
            "_________________________________________________________________\n"
          ]
        }
      ]
    },
    {
      "cell_type": "markdown",
      "source": [
        "### CNN Model"
      ],
      "metadata": {
        "id": "IGJJjSCaFmv-"
      }
    },
    {
      "cell_type": "code",
      "source": [
        "import tensorflow as tf\n",
        "\n",
        "\n",
        "# Creating model\n",
        "cnn_model = tf.keras.Sequential()\n",
        "cnn_model.add(tf.keras.layers.Conv2D(256, (2,2), activation=tf.nn.relu, input_shape=(90, 4,1)))\n",
        "# cnn_model.add(tf.keras.layers.Dense(1, activation=tf.nn.softmax))\n",
        "\n",
        "# We will now compile and print out a summary of our model\n",
        "cnn_model.compile(\n",
        "    loss=tf.keras.losses.SparseCategoricalCrossentropy(from_logits=True),\n",
        "    optimizer='adam',\n",
        "    metrics=['accuracy'])\n"
      ],
      "metadata": {
        "id": "8lSrWungFpzX"
      },
      "execution_count": 62,
      "outputs": []
    },
    {
      "cell_type": "markdown",
      "source": [
        "## Split train and test\n",
        "\n",
        "Total data of a user:\n",
        "\n",
        "Original signature: **45** <br/>\n",
        "Forged signature: **18**\n",
        "\n",
        "\n",
        "70% originial signature: **31** <br/>\n",
        "50% forged signature: **9**\n",
        "\n",
        "60% of 63: **37**"
      ],
      "metadata": {
        "id": "xMmzRWMW1MpB"
      }
    },
    {
      "cell_type": "code",
      "source": [
        "tmp = list(reshaped_signs_dict.values())\n",
        "X_train, label_train = (tmp[:37], labels[:37])\n",
        "X_test, label_test = (tmp[37:], labels[37:])\n",
        "X_train = np.array(X_train).astype(np.float32)\n",
        "X_train = X_train.astype(np.float32)\n",
        "X_test = np.array(X_test).astype(np.float32)\n",
        "X_test = X_test.astype(np.float32)\n",
        "label_train = np.array(label_train)\n",
        "# label_train = tf.keras.utils.to_categorical(label_train, 0)\n",
        "\n",
        "X_train.shape, label_train.shape, len(X_test), len(label_test), "
      ],
      "metadata": {
        "colab": {
          "base_uri": "https://localhost:8080/"
        },
        "id": "BoH3MZ6k1JDA",
        "outputId": "f4d6b95e-261c-4064-d13c-c78d2efe2453"
      },
      "execution_count": 63,
      "outputs": [
        {
          "output_type": "execute_result",
          "data": {
            "text/plain": [
              "((37, 90, 4), (37, 1), 26, 26)"
            ]
          },
          "metadata": {},
          "execution_count": 63
        }
      ]
    },
    {
      "cell_type": "markdown",
      "source": [
        "## SVM Model training"
      ],
      "metadata": {
        "id": "42h1RKdIFgJV"
      }
    },
    {
      "cell_type": "code",
      "source": [
        "from sklearn import svm\n",
        "clf = svm.SVC()\n",
        "label_train_svm = label_train.reshape(37)\n",
        "X_train = X_train.reshape(37, 90*4)\n",
        "print(X_train.shape, label_train_svm.shape)\n",
        "clf.fit(X_train, label_train_svm)\n"
      ],
      "metadata": {
        "colab": {
          "base_uri": "https://localhost:8080/"
        },
        "id": "1V6fZufQFNIE",
        "outputId": "aec2d6bd-95ea-4d5e-8c41-7542ee1bd218"
      },
      "execution_count": 64,
      "outputs": [
        {
          "output_type": "stream",
          "name": "stdout",
          "text": [
            "(37, 360) (37,)\n"
          ]
        },
        {
          "output_type": "execute_result",
          "data": {
            "text/plain": [
              "SVC()"
            ]
          },
          "metadata": {},
          "execution_count": 64
        }
      ]
    },
    {
      "cell_type": "code",
      "source": [
        "X_test_svm = X_test.reshape(26, 90*4)\n",
        "clf.predict(X_test_svm)\n",
        "# print(X_test.shape)"
      ],
      "metadata": {
        "colab": {
          "base_uri": "https://localhost:8080/"
        },
        "id": "vzJvWAwxG5ys",
        "outputId": "a66f0808-2d19-4462-f328-5688bf44e76b"
      },
      "execution_count": 65,
      "outputs": [
        {
          "output_type": "execute_result",
          "data": {
            "text/plain": [
              "array([1, 1, 1, 1, 1, 1, 1, 1, 1, 1, 1, 1, 1, 1, 1, 1, 1, 1, 1, 1, 1, 1,\n",
              "       1, 1, 1, 1])"
            ]
          },
          "metadata": {},
          "execution_count": 65
        }
      ]
    },
    {
      "cell_type": "markdown",
      "source": [
        "## Training"
      ],
      "metadata": {
        "id": "jtHREzPX3nr1"
      }
    },
    {
      "cell_type": "code",
      "source": [
        "# X_train = X_train.astype(np.float32)\n",
        "\n",
        "print(type(X_train[0][0]), type(label_train))\n",
        "print(len(X_train))\n",
        "print(len(label_train))\n",
        "\n",
        "# reshape for CNN model\n",
        "print(\"Shape\", X_train.shape)\n",
        "# X_train_c = tf.expand_dims(X_train, axis=-1)\n",
        "# X_test_c = X_test.reshape(len(X_test), 90, 3, 1)\n",
        "model.fit(X_train, np.array(label_train), epochs=2)"
      ],
      "metadata": {
        "colab": {
          "base_uri": "https://localhost:8080/",
          "height": 694
        },
        "id": "-2Q-Wl5F3mqV",
        "outputId": "5d67a8f8-6697-4d82-9755-4c02ce3fc24c"
      },
      "execution_count": 68,
      "outputs": [
        {
          "output_type": "stream",
          "name": "stdout",
          "text": [
            "<class 'numpy.float32'> <class 'numpy.ndarray'>\n",
            "37\n",
            "37\n",
            "Shape (37, 360)\n",
            "Epoch 1/2\n"
          ]
        },
        {
          "output_type": "error",
          "ename": "ValueError",
          "evalue": "ignored",
          "traceback": [
            "\u001b[0;31m---------------------------------------------------------------------------\u001b[0m",
            "\u001b[0;31mValueError\u001b[0m                                Traceback (most recent call last)",
            "\u001b[0;32m<ipython-input-68-6d47862071f7>\u001b[0m in \u001b[0;36m<module>\u001b[0;34m()\u001b[0m\n\u001b[1;32m      9\u001b[0m \u001b[0;31m# X_train_c = tf.expand_dims(X_train, axis=-1)\u001b[0m\u001b[0;34m\u001b[0m\u001b[0;34m\u001b[0m\u001b[0;34m\u001b[0m\u001b[0m\n\u001b[1;32m     10\u001b[0m \u001b[0;31m# X_test_c = X_test.reshape(len(X_test), 90, 3, 1)\u001b[0m\u001b[0;34m\u001b[0m\u001b[0;34m\u001b[0m\u001b[0;34m\u001b[0m\u001b[0m\n\u001b[0;32m---> 11\u001b[0;31m \u001b[0mmodel\u001b[0m\u001b[0;34m.\u001b[0m\u001b[0mfit\u001b[0m\u001b[0;34m(\u001b[0m\u001b[0mX_train\u001b[0m\u001b[0;34m,\u001b[0m \u001b[0mnp\u001b[0m\u001b[0;34m.\u001b[0m\u001b[0marray\u001b[0m\u001b[0;34m(\u001b[0m\u001b[0mlabel_train\u001b[0m\u001b[0;34m)\u001b[0m\u001b[0;34m,\u001b[0m \u001b[0mepochs\u001b[0m\u001b[0;34m=\u001b[0m\u001b[0;36m2\u001b[0m\u001b[0;34m)\u001b[0m\u001b[0;34m\u001b[0m\u001b[0;34m\u001b[0m\u001b[0m\n\u001b[0m",
            "\u001b[0;32m/usr/local/lib/python3.7/dist-packages/keras/utils/traceback_utils.py\u001b[0m in \u001b[0;36merror_handler\u001b[0;34m(*args, **kwargs)\u001b[0m\n\u001b[1;32m     65\u001b[0m     \u001b[0;32mexcept\u001b[0m \u001b[0mException\u001b[0m \u001b[0;32mas\u001b[0m \u001b[0me\u001b[0m\u001b[0;34m:\u001b[0m  \u001b[0;31m# pylint: disable=broad-except\u001b[0m\u001b[0;34m\u001b[0m\u001b[0;34m\u001b[0m\u001b[0m\n\u001b[1;32m     66\u001b[0m       \u001b[0mfiltered_tb\u001b[0m \u001b[0;34m=\u001b[0m \u001b[0m_process_traceback_frames\u001b[0m\u001b[0;34m(\u001b[0m\u001b[0me\u001b[0m\u001b[0;34m.\u001b[0m\u001b[0m__traceback__\u001b[0m\u001b[0;34m)\u001b[0m\u001b[0;34m\u001b[0m\u001b[0;34m\u001b[0m\u001b[0m\n\u001b[0;32m---> 67\u001b[0;31m       \u001b[0;32mraise\u001b[0m \u001b[0me\u001b[0m\u001b[0;34m.\u001b[0m\u001b[0mwith_traceback\u001b[0m\u001b[0;34m(\u001b[0m\u001b[0mfiltered_tb\u001b[0m\u001b[0;34m)\u001b[0m \u001b[0;32mfrom\u001b[0m \u001b[0;32mNone\u001b[0m\u001b[0;34m\u001b[0m\u001b[0;34m\u001b[0m\u001b[0m\n\u001b[0m\u001b[1;32m     68\u001b[0m     \u001b[0;32mfinally\u001b[0m\u001b[0;34m:\u001b[0m\u001b[0;34m\u001b[0m\u001b[0;34m\u001b[0m\u001b[0m\n\u001b[1;32m     69\u001b[0m       \u001b[0;32mdel\u001b[0m \u001b[0mfiltered_tb\u001b[0m\u001b[0;34m\u001b[0m\u001b[0;34m\u001b[0m\u001b[0m\n",
            "\u001b[0;32m/usr/local/lib/python3.7/dist-packages/tensorflow/python/framework/func_graph.py\u001b[0m in \u001b[0;36mautograph_handler\u001b[0;34m(*args, **kwargs)\u001b[0m\n\u001b[1;32m   1145\u001b[0m           \u001b[0;32mexcept\u001b[0m \u001b[0mException\u001b[0m \u001b[0;32mas\u001b[0m \u001b[0me\u001b[0m\u001b[0;34m:\u001b[0m  \u001b[0;31m# pylint:disable=broad-except\u001b[0m\u001b[0;34m\u001b[0m\u001b[0;34m\u001b[0m\u001b[0m\n\u001b[1;32m   1146\u001b[0m             \u001b[0;32mif\u001b[0m \u001b[0mhasattr\u001b[0m\u001b[0;34m(\u001b[0m\u001b[0me\u001b[0m\u001b[0;34m,\u001b[0m \u001b[0;34m\"ag_error_metadata\"\u001b[0m\u001b[0;34m)\u001b[0m\u001b[0;34m:\u001b[0m\u001b[0;34m\u001b[0m\u001b[0;34m\u001b[0m\u001b[0m\n\u001b[0;32m-> 1147\u001b[0;31m               \u001b[0;32mraise\u001b[0m \u001b[0me\u001b[0m\u001b[0;34m.\u001b[0m\u001b[0mag_error_metadata\u001b[0m\u001b[0;34m.\u001b[0m\u001b[0mto_exception\u001b[0m\u001b[0;34m(\u001b[0m\u001b[0me\u001b[0m\u001b[0;34m)\u001b[0m\u001b[0;34m\u001b[0m\u001b[0;34m\u001b[0m\u001b[0m\n\u001b[0m\u001b[1;32m   1148\u001b[0m             \u001b[0;32melse\u001b[0m\u001b[0;34m:\u001b[0m\u001b[0;34m\u001b[0m\u001b[0;34m\u001b[0m\u001b[0m\n\u001b[1;32m   1149\u001b[0m               \u001b[0;32mraise\u001b[0m\u001b[0;34m\u001b[0m\u001b[0;34m\u001b[0m\u001b[0m\n",
            "\u001b[0;31mValueError\u001b[0m: in user code:\n\n    File \"/usr/local/lib/python3.7/dist-packages/keras/engine/training.py\", line 1021, in train_function  *\n        return step_function(self, iterator)\n    File \"/usr/local/lib/python3.7/dist-packages/keras/engine/training.py\", line 1010, in step_function  **\n        outputs = model.distribute_strategy.run(run_step, args=(data,))\n    File \"/usr/local/lib/python3.7/dist-packages/keras/engine/training.py\", line 1000, in run_step  **\n        outputs = model.train_step(data)\n    File \"/usr/local/lib/python3.7/dist-packages/keras/engine/training.py\", line 859, in train_step\n        y_pred = self(x, training=True)\n    File \"/usr/local/lib/python3.7/dist-packages/keras/utils/traceback_utils.py\", line 67, in error_handler\n        raise e.with_traceback(filtered_tb) from None\n    File \"/usr/local/lib/python3.7/dist-packages/keras/engine/input_spec.py\", line 264, in assert_input_compatibility\n        raise ValueError(f'Input {input_index} of layer \"{layer_name}\" is '\n\n    ValueError: Input 0 of layer \"sequential_3\" is incompatible with the layer: expected shape=(None, 270), found shape=(None, 360)\n"
          ]
        }
      ]
    },
    {
      "cell_type": "markdown",
      "source": [
        "## Evaluate performance\n"
      ],
      "metadata": {
        "id": "l4X6rJyJmush"
      }
    },
    {
      "cell_type": "code",
      "source": [
        "loss, accuracy = model.evaluate(X_test, np.array(label_test))\n",
        "print('Test accuracy: %.2f' % (accuracy))"
      ],
      "metadata": {
        "id": "UAINe2V-m1Nx"
      },
      "execution_count": null,
      "outputs": []
    },
    {
      "cell_type": "code",
      "source": [
        "plt.plot(orig_sigs[0].iloc[:, 0], orig_sigs[0].iloc[:, 1], 'ro')"
      ],
      "metadata": {
        "id": "ruUSG5Q8zquB"
      },
      "execution_count": null,
      "outputs": []
    },
    {
      "cell_type": "code",
      "source": [
        ""
      ],
      "metadata": {
        "id": "Gn-M89QUyRvi"
      },
      "execution_count": null,
      "outputs": []
    },
    {
      "cell_type": "code",
      "source": [
        "for orig_sig in orig_sigs:\n",
        "  plt.plot(orig_sig.iloc[:,0], orig_sig.iloc[:,1])\n",
        "  print(len(orig_sig))\n",
        "\n",
        "# plt.plot(sig_to_vis.iloc[:,0], sig_to_vis.iloc[:,1])\n",
        "# plt.plot(sig_to_vis1.iloc[:,0], sig_to_vis1.iloc[:,1])"
      ],
      "metadata": {
        "id": "6z_XehXT-6mM"
      },
      "execution_count": null,
      "outputs": []
    },
    {
      "cell_type": "code",
      "source": [
        ""
      ],
      "metadata": {
        "id": "Ph_LmOoJFbuI"
      },
      "execution_count": null,
      "outputs": []
    },
    {
      "cell_type": "code",
      "source": [
        "import tensorflow as tf"
      ],
      "metadata": {
        "id": "3lf6Y1NI3PFP"
      },
      "execution_count": null,
      "outputs": []
    },
    {
      "cell_type": "code",
      "source": [
        ""
      ],
      "metadata": {
        "id": "_fDG-sD48Prt"
      },
      "execution_count": null,
      "outputs": []
    }
  ]
}