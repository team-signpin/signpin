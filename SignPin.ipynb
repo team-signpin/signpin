{
  "nbformat": 4,
  "nbformat_minor": 0,
  "metadata": {
    "colab": {
      "name": "SignPin.ipynb",
      "provenance": [],
      "collapsed_sections": [],
      "include_colab_link": true
    },
    "kernelspec": {
      "name": "python3",
      "display_name": "Python 3"
    },
    "language_info": {
      "name": "python"
    },
    "widgets": {
      "application/vnd.jupyter.widget-state+json": {
        "8451ea864b6d4b358ee43c768a93a260": {
          "model_module": "@jupyter-widgets/controls",
          "model_name": "VBoxModel",
          "model_module_version": "1.5.0",
          "state": {
            "_view_name": "VBoxView",
            "_dom_classes": [],
            "_model_name": "VBoxModel",
            "_view_module": "@jupyter-widgets/controls",
            "_model_module_version": "1.5.0",
            "_view_count": null,
            "_view_module_version": "1.5.0",
            "box_style": "",
            "layout": "IPY_MODEL_723ee4552cec4ef2b7d4773c87157958",
            "_model_module": "@jupyter-widgets/controls",
            "children": [
              "IPY_MODEL_c019c91bb3fa457bb4bf80ea3a1d7645",
              "IPY_MODEL_1a33014ead644cda9763b8f19c0f9f08"
            ]
          }
        },
        "723ee4552cec4ef2b7d4773c87157958": {
          "model_module": "@jupyter-widgets/base",
          "model_name": "LayoutModel",
          "model_module_version": "1.2.0",
          "state": {
            "_view_name": "LayoutView",
            "grid_template_rows": null,
            "right": null,
            "justify_content": null,
            "_view_module": "@jupyter-widgets/base",
            "overflow": null,
            "_model_module_version": "1.2.0",
            "_view_count": null,
            "flex_flow": null,
            "width": null,
            "min_width": null,
            "border": null,
            "align_items": null,
            "bottom": null,
            "_model_module": "@jupyter-widgets/base",
            "top": null,
            "grid_column": null,
            "overflow_y": null,
            "overflow_x": null,
            "grid_auto_flow": null,
            "grid_area": null,
            "grid_template_columns": null,
            "flex": null,
            "_model_name": "LayoutModel",
            "justify_items": null,
            "grid_row": null,
            "max_height": null,
            "align_content": null,
            "visibility": null,
            "align_self": null,
            "height": null,
            "min_height": null,
            "padding": null,
            "grid_auto_rows": null,
            "grid_gap": null,
            "max_width": null,
            "order": null,
            "_view_module_version": "1.2.0",
            "grid_template_areas": null,
            "object_position": null,
            "object_fit": null,
            "grid_auto_columns": null,
            "margin": null,
            "display": null,
            "left": null
          }
        },
        "c019c91bb3fa457bb4bf80ea3a1d7645": {
          "model_module": "@jupyter-widgets/controls",
          "model_name": "HBoxModel",
          "model_module_version": "1.5.0",
          "state": {
            "_view_name": "HBoxView",
            "_dom_classes": [],
            "_model_name": "HBoxModel",
            "_view_module": "@jupyter-widgets/controls",
            "_model_module_version": "1.5.0",
            "_view_count": null,
            "_view_module_version": "1.5.0",
            "box_style": "",
            "layout": "IPY_MODEL_0653f468964e45789f9b87ce7891fa53",
            "_model_module": "@jupyter-widgets/controls",
            "children": [
              "IPY_MODEL_ff99a85111e44ec0bc033ce250665386",
              "IPY_MODEL_1cd71a5367f14d8cba3b18c384d20ff1",
              "IPY_MODEL_edeaa06c3bb3450dbf15ae5196b47538",
              "IPY_MODEL_312859fd26a34e309a8eeee1fd3a321d"
            ]
          }
        },
        "1a33014ead644cda9763b8f19c0f9f08": {
          "model_module": "ipycanvas",
          "model_name": "CanvasModel",
          "model_module_version": "^0.10.2",
          "state": {
            "_view_name": "CanvasView",
            "_dom_classes": [],
            "_model_name": "CanvasModel",
            "_view_module": "ipycanvas",
            "_model_module_version": "^0.10.2",
            "_view_count": null,
            "_send_client_ready_event": true,
            "width": 600,
            "_view_module_version": "^0.10.2",
            "sync_image_data": false,
            "image_data": null,
            "layout": "IPY_MODEL_9e900bb352584ebc90b34b82ad731851",
            "height": 300,
            "_model_module": "ipycanvas"
          }
        },
        "0653f468964e45789f9b87ce7891fa53": {
          "model_module": "@jupyter-widgets/base",
          "model_name": "LayoutModel",
          "model_module_version": "1.2.0",
          "state": {
            "_view_name": "LayoutView",
            "grid_template_rows": null,
            "right": null,
            "justify_content": null,
            "_view_module": "@jupyter-widgets/base",
            "overflow": null,
            "_model_module_version": "1.2.0",
            "_view_count": null,
            "flex_flow": null,
            "width": null,
            "min_width": null,
            "border": null,
            "align_items": null,
            "bottom": null,
            "_model_module": "@jupyter-widgets/base",
            "top": null,
            "grid_column": null,
            "overflow_y": null,
            "overflow_x": null,
            "grid_auto_flow": null,
            "grid_area": null,
            "grid_template_columns": null,
            "flex": null,
            "_model_name": "LayoutModel",
            "justify_items": null,
            "grid_row": null,
            "max_height": null,
            "align_content": null,
            "visibility": null,
            "align_self": null,
            "height": null,
            "min_height": null,
            "padding": null,
            "grid_auto_rows": null,
            "grid_gap": null,
            "max_width": null,
            "order": null,
            "_view_module_version": "1.2.0",
            "grid_template_areas": null,
            "object_position": null,
            "object_fit": null,
            "grid_auto_columns": null,
            "margin": null,
            "display": null,
            "left": null
          }
        },
        "ff99a85111e44ec0bc033ce250665386": {
          "model_module": "@jupyter-widgets/controls",
          "model_name": "VBoxModel",
          "model_module_version": "1.5.0",
          "state": {
            "_view_name": "VBoxView",
            "_dom_classes": [
              "widget-interact"
            ],
            "_model_name": "VBoxModel",
            "_view_module": "@jupyter-widgets/controls",
            "_model_module_version": "1.5.0",
            "_view_count": null,
            "_view_module_version": "1.5.0",
            "box_style": "",
            "layout": "IPY_MODEL_f0bc6d524f6c4bfe891738345e7ec0c7",
            "_model_module": "@jupyter-widgets/controls",
            "children": [
              "IPY_MODEL_cc3c8de9a2b74d77bcbb20afeac1d70c",
              "IPY_MODEL_4657dea8a46e4e509b4bf2d5857a7426"
            ]
          }
        },
        "1cd71a5367f14d8cba3b18c384d20ff1": {
          "model_module": "@jupyter-widgets/controls",
          "model_name": "VBoxModel",
          "model_module_version": "1.5.0",
          "state": {
            "_view_name": "VBoxView",
            "_dom_classes": [
              "widget-interact"
            ],
            "_model_name": "VBoxModel",
            "_view_module": "@jupyter-widgets/controls",
            "_model_module_version": "1.5.0",
            "_view_count": null,
            "_view_module_version": "1.5.0",
            "box_style": "",
            "layout": "IPY_MODEL_d5c226c183724df49d797da3edde0cfa",
            "_model_module": "@jupyter-widgets/controls",
            "children": [
              "IPY_MODEL_5185c07dde93475fb5eda04d9b6f291d",
              "IPY_MODEL_5c25a290abc04406a907cc612e4ce1c6"
            ]
          }
        },
        "edeaa06c3bb3450dbf15ae5196b47538": {
          "model_module": "@jupyter-widgets/controls",
          "model_name": "FloatSliderModel",
          "model_module_version": "1.5.0",
          "state": {
            "_view_name": "FloatSliderView",
            "style": "IPY_MODEL_7b5ecc55b7d94c7c83516db4adec4ae9",
            "_dom_classes": [],
            "description": "Speed (s): ",
            "step": 0.1,
            "_model_name": "FloatSliderModel",
            "orientation": "horizontal",
            "max": 10,
            "_view_module": "@jupyter-widgets/controls",
            "_model_module_version": "1.5.0",
            "value": 1,
            "_view_count": null,
            "disabled": false,
            "_view_module_version": "1.5.0",
            "min": 0.3,
            "continuous_update": true,
            "readout_format": ".2f",
            "description_tooltip": null,
            "readout": true,
            "_model_module": "@jupyter-widgets/controls",
            "layout": "IPY_MODEL_933130af00814fefb1cf44c1bc7d7c2c"
          }
        },
        "312859fd26a34e309a8eeee1fd3a321d": {
          "model_module": "@jupyter-widgets/controls",
          "model_name": "ButtonModel",
          "model_module_version": "1.5.0",
          "state": {
            "_view_name": "ButtonView",
            "style": "IPY_MODEL_0e738773407f404a9c28d64a07fbf0a3",
            "_dom_classes": [],
            "description": "Animate",
            "_model_name": "ButtonModel",
            "button_style": "",
            "_view_module": "@jupyter-widgets/controls",
            "_model_module_version": "1.5.0",
            "tooltip": "",
            "_view_count": null,
            "disabled": false,
            "_view_module_version": "1.5.0",
            "layout": "IPY_MODEL_8c75c51c94244e90bdd9b2a5e574e0b4",
            "_model_module": "@jupyter-widgets/controls",
            "icon": ""
          }
        },
        "f0bc6d524f6c4bfe891738345e7ec0c7": {
          "model_module": "@jupyter-widgets/base",
          "model_name": "LayoutModel",
          "model_module_version": "1.2.0",
          "state": {
            "_view_name": "LayoutView",
            "grid_template_rows": null,
            "right": null,
            "justify_content": null,
            "_view_module": "@jupyter-widgets/base",
            "overflow": null,
            "_model_module_version": "1.2.0",
            "_view_count": null,
            "flex_flow": null,
            "width": null,
            "min_width": null,
            "border": null,
            "align_items": null,
            "bottom": null,
            "_model_module": "@jupyter-widgets/base",
            "top": null,
            "grid_column": null,
            "overflow_y": null,
            "overflow_x": null,
            "grid_auto_flow": null,
            "grid_area": null,
            "grid_template_columns": null,
            "flex": null,
            "_model_name": "LayoutModel",
            "justify_items": null,
            "grid_row": null,
            "max_height": null,
            "align_content": null,
            "visibility": null,
            "align_self": null,
            "height": null,
            "min_height": null,
            "padding": null,
            "grid_auto_rows": null,
            "grid_gap": null,
            "max_width": null,
            "order": null,
            "_view_module_version": "1.2.0",
            "grid_template_areas": null,
            "object_position": null,
            "object_fit": null,
            "grid_auto_columns": null,
            "margin": null,
            "display": null,
            "left": null
          }
        },
        "cc3c8de9a2b74d77bcbb20afeac1d70c": {
          "model_module": "@jupyter-widgets/controls",
          "model_name": "DropdownModel",
          "model_module_version": "1.5.0",
          "state": {
            "_options_labels": [
              "OMRAN",
              "RUMA",
              "SAMI",
              "SAMIHA"
            ],
            "_view_name": "DropdownView",
            "style": "IPY_MODEL_87f4bf5f56174592841f2b48b797091f",
            "_dom_classes": [],
            "description": "Nicknames: ",
            "_model_name": "DropdownModel",
            "index": 0,
            "_view_module": "@jupyter-widgets/controls",
            "_model_module_version": "1.5.0",
            "_view_count": null,
            "disabled": false,
            "_view_module_version": "1.5.0",
            "description_tooltip": null,
            "_model_module": "@jupyter-widgets/controls",
            "layout": "IPY_MODEL_54aedcefbaf14ba9b7d2b46b66657edb"
          }
        },
        "4657dea8a46e4e509b4bf2d5857a7426": {
          "model_module": "@jupyter-widgets/output",
          "model_name": "OutputModel",
          "model_module_version": "1.0.0",
          "state": {
            "_view_name": "OutputView",
            "msg_id": "",
            "_dom_classes": [],
            "_model_name": "OutputModel",
            "outputs": [],
            "_view_module": "@jupyter-widgets/output",
            "_model_module_version": "1.0.0",
            "_view_count": null,
            "_view_module_version": "1.0.0",
            "layout": "IPY_MODEL_26b85c26b6634ad2b3f93260e092e3be",
            "_model_module": "@jupyter-widgets/output"
          }
        },
        "d5c226c183724df49d797da3edde0cfa": {
          "model_module": "@jupyter-widgets/base",
          "model_name": "LayoutModel",
          "model_module_version": "1.2.0",
          "state": {
            "_view_name": "LayoutView",
            "grid_template_rows": null,
            "right": null,
            "justify_content": null,
            "_view_module": "@jupyter-widgets/base",
            "overflow": null,
            "_model_module_version": "1.2.0",
            "_view_count": null,
            "flex_flow": null,
            "width": null,
            "min_width": null,
            "border": null,
            "align_items": null,
            "bottom": null,
            "_model_module": "@jupyter-widgets/base",
            "top": null,
            "grid_column": null,
            "overflow_y": null,
            "overflow_x": null,
            "grid_auto_flow": null,
            "grid_area": null,
            "grid_template_columns": null,
            "flex": null,
            "_model_name": "LayoutModel",
            "justify_items": null,
            "grid_row": null,
            "max_height": null,
            "align_content": null,
            "visibility": null,
            "align_self": null,
            "height": null,
            "min_height": null,
            "padding": null,
            "grid_auto_rows": null,
            "grid_gap": null,
            "max_width": null,
            "order": null,
            "_view_module_version": "1.2.0",
            "grid_template_areas": null,
            "object_position": null,
            "object_fit": null,
            "grid_auto_columns": null,
            "margin": null,
            "display": null,
            "left": null
          }
        },
        "5185c07dde93475fb5eda04d9b6f291d": {
          "model_module": "@jupyter-widgets/controls",
          "model_name": "DropdownModel",
          "model_module_version": "1.5.0",
          "state": {
            "_options_labels": [
              "0",
              "1",
              "2",
              "3",
              "4"
            ],
            "_view_name": "DropdownView",
            "style": "IPY_MODEL_75629299770d496b88a0d22acf137b7d",
            "_dom_classes": [],
            "description": "Sign: ",
            "_model_name": "DropdownModel",
            "index": 0,
            "_view_module": "@jupyter-widgets/controls",
            "_model_module_version": "1.5.0",
            "_view_count": null,
            "disabled": false,
            "_view_module_version": "1.5.0",
            "description_tooltip": null,
            "_model_module": "@jupyter-widgets/controls",
            "layout": "IPY_MODEL_c7ba6fe0256b477598d27e24b22b77d9"
          }
        },
        "5c25a290abc04406a907cc612e4ce1c6": {
          "model_module": "@jupyter-widgets/output",
          "model_name": "OutputModel",
          "model_module_version": "1.0.0",
          "state": {
            "_view_name": "OutputView",
            "msg_id": "",
            "_dom_classes": [],
            "_model_name": "OutputModel",
            "outputs": [],
            "_view_module": "@jupyter-widgets/output",
            "_model_module_version": "1.0.0",
            "_view_count": null,
            "_view_module_version": "1.0.0",
            "layout": "IPY_MODEL_d492046f27334a7d8d70b227aba50c88",
            "_model_module": "@jupyter-widgets/output"
          }
        },
        "7b5ecc55b7d94c7c83516db4adec4ae9": {
          "model_module": "@jupyter-widgets/controls",
          "model_name": "SliderStyleModel",
          "model_module_version": "1.5.0",
          "state": {
            "_view_name": "StyleView",
            "handle_color": null,
            "_model_name": "SliderStyleModel",
            "description_width": "",
            "_view_module": "@jupyter-widgets/base",
            "_model_module_version": "1.5.0",
            "_view_count": null,
            "_view_module_version": "1.2.0",
            "_model_module": "@jupyter-widgets/controls"
          }
        },
        "933130af00814fefb1cf44c1bc7d7c2c": {
          "model_module": "@jupyter-widgets/base",
          "model_name": "LayoutModel",
          "model_module_version": "1.2.0",
          "state": {
            "_view_name": "LayoutView",
            "grid_template_rows": null,
            "right": null,
            "justify_content": null,
            "_view_module": "@jupyter-widgets/base",
            "overflow": null,
            "_model_module_version": "1.2.0",
            "_view_count": null,
            "flex_flow": null,
            "width": null,
            "min_width": null,
            "border": null,
            "align_items": null,
            "bottom": null,
            "_model_module": "@jupyter-widgets/base",
            "top": null,
            "grid_column": null,
            "overflow_y": null,
            "overflow_x": null,
            "grid_auto_flow": null,
            "grid_area": null,
            "grid_template_columns": null,
            "flex": null,
            "_model_name": "LayoutModel",
            "justify_items": null,
            "grid_row": null,
            "max_height": null,
            "align_content": null,
            "visibility": null,
            "align_self": null,
            "height": null,
            "min_height": null,
            "padding": null,
            "grid_auto_rows": null,
            "grid_gap": null,
            "max_width": null,
            "order": null,
            "_view_module_version": "1.2.0",
            "grid_template_areas": null,
            "object_position": null,
            "object_fit": null,
            "grid_auto_columns": null,
            "margin": null,
            "display": null,
            "left": null
          }
        },
        "0e738773407f404a9c28d64a07fbf0a3": {
          "model_module": "@jupyter-widgets/controls",
          "model_name": "ButtonStyleModel",
          "model_module_version": "1.5.0",
          "state": {
            "_view_name": "StyleView",
            "_model_name": "ButtonStyleModel",
            "_view_module": "@jupyter-widgets/base",
            "_model_module_version": "1.5.0",
            "_view_count": null,
            "button_color": null,
            "font_weight": "",
            "_view_module_version": "1.2.0",
            "_model_module": "@jupyter-widgets/controls"
          }
        },
        "8c75c51c94244e90bdd9b2a5e574e0b4": {
          "model_module": "@jupyter-widgets/base",
          "model_name": "LayoutModel",
          "model_module_version": "1.2.0",
          "state": {
            "_view_name": "LayoutView",
            "grid_template_rows": null,
            "right": null,
            "justify_content": null,
            "_view_module": "@jupyter-widgets/base",
            "overflow": null,
            "_model_module_version": "1.2.0",
            "_view_count": null,
            "flex_flow": null,
            "width": null,
            "min_width": null,
            "border": null,
            "align_items": null,
            "bottom": null,
            "_model_module": "@jupyter-widgets/base",
            "top": null,
            "grid_column": null,
            "overflow_y": null,
            "overflow_x": null,
            "grid_auto_flow": null,
            "grid_area": null,
            "grid_template_columns": null,
            "flex": null,
            "_model_name": "LayoutModel",
            "justify_items": null,
            "grid_row": null,
            "max_height": null,
            "align_content": null,
            "visibility": null,
            "align_self": null,
            "height": null,
            "min_height": null,
            "padding": null,
            "grid_auto_rows": null,
            "grid_gap": null,
            "max_width": null,
            "order": null,
            "_view_module_version": "1.2.0",
            "grid_template_areas": null,
            "object_position": null,
            "object_fit": null,
            "grid_auto_columns": null,
            "margin": null,
            "display": null,
            "left": null
          }
        },
        "87f4bf5f56174592841f2b48b797091f": {
          "model_module": "@jupyter-widgets/controls",
          "model_name": "DescriptionStyleModel",
          "model_module_version": "1.5.0",
          "state": {
            "_view_name": "StyleView",
            "_model_name": "DescriptionStyleModel",
            "description_width": "",
            "_view_module": "@jupyter-widgets/base",
            "_model_module_version": "1.5.0",
            "_view_count": null,
            "_view_module_version": "1.2.0",
            "_model_module": "@jupyter-widgets/controls"
          }
        },
        "54aedcefbaf14ba9b7d2b46b66657edb": {
          "model_module": "@jupyter-widgets/base",
          "model_name": "LayoutModel",
          "model_module_version": "1.2.0",
          "state": {
            "_view_name": "LayoutView",
            "grid_template_rows": null,
            "right": null,
            "justify_content": null,
            "_view_module": "@jupyter-widgets/base",
            "overflow": null,
            "_model_module_version": "1.2.0",
            "_view_count": null,
            "flex_flow": null,
            "width": null,
            "min_width": null,
            "border": null,
            "align_items": null,
            "bottom": null,
            "_model_module": "@jupyter-widgets/base",
            "top": null,
            "grid_column": null,
            "overflow_y": null,
            "overflow_x": null,
            "grid_auto_flow": null,
            "grid_area": null,
            "grid_template_columns": null,
            "flex": null,
            "_model_name": "LayoutModel",
            "justify_items": null,
            "grid_row": null,
            "max_height": null,
            "align_content": null,
            "visibility": null,
            "align_self": null,
            "height": null,
            "min_height": null,
            "padding": null,
            "grid_auto_rows": null,
            "grid_gap": null,
            "max_width": null,
            "order": null,
            "_view_module_version": "1.2.0",
            "grid_template_areas": null,
            "object_position": null,
            "object_fit": null,
            "grid_auto_columns": null,
            "margin": null,
            "display": null,
            "left": null
          }
        },
        "26b85c26b6634ad2b3f93260e092e3be": {
          "model_module": "@jupyter-widgets/base",
          "model_name": "LayoutModel",
          "model_module_version": "1.2.0",
          "state": {
            "_view_name": "LayoutView",
            "grid_template_rows": null,
            "right": null,
            "justify_content": null,
            "_view_module": "@jupyter-widgets/base",
            "overflow": null,
            "_model_module_version": "1.2.0",
            "_view_count": null,
            "flex_flow": null,
            "width": null,
            "min_width": null,
            "border": null,
            "align_items": null,
            "bottom": null,
            "_model_module": "@jupyter-widgets/base",
            "top": null,
            "grid_column": null,
            "overflow_y": null,
            "overflow_x": null,
            "grid_auto_flow": null,
            "grid_area": null,
            "grid_template_columns": null,
            "flex": null,
            "_model_name": "LayoutModel",
            "justify_items": null,
            "grid_row": null,
            "max_height": null,
            "align_content": null,
            "visibility": null,
            "align_self": null,
            "height": null,
            "min_height": null,
            "padding": null,
            "grid_auto_rows": null,
            "grid_gap": null,
            "max_width": null,
            "order": null,
            "_view_module_version": "1.2.0",
            "grid_template_areas": null,
            "object_position": null,
            "object_fit": null,
            "grid_auto_columns": null,
            "margin": null,
            "display": null,
            "left": null
          }
        },
        "75629299770d496b88a0d22acf137b7d": {
          "model_module": "@jupyter-widgets/controls",
          "model_name": "DescriptionStyleModel",
          "model_module_version": "1.5.0",
          "state": {
            "_view_name": "StyleView",
            "_model_name": "DescriptionStyleModel",
            "description_width": "",
            "_view_module": "@jupyter-widgets/base",
            "_model_module_version": "1.5.0",
            "_view_count": null,
            "_view_module_version": "1.2.0",
            "_model_module": "@jupyter-widgets/controls"
          }
        },
        "c7ba6fe0256b477598d27e24b22b77d9": {
          "model_module": "@jupyter-widgets/base",
          "model_name": "LayoutModel",
          "model_module_version": "1.2.0",
          "state": {
            "_view_name": "LayoutView",
            "grid_template_rows": null,
            "right": null,
            "justify_content": null,
            "_view_module": "@jupyter-widgets/base",
            "overflow": null,
            "_model_module_version": "1.2.0",
            "_view_count": null,
            "flex_flow": null,
            "width": null,
            "min_width": null,
            "border": null,
            "align_items": null,
            "bottom": null,
            "_model_module": "@jupyter-widgets/base",
            "top": null,
            "grid_column": null,
            "overflow_y": null,
            "overflow_x": null,
            "grid_auto_flow": null,
            "grid_area": null,
            "grid_template_columns": null,
            "flex": null,
            "_model_name": "LayoutModel",
            "justify_items": null,
            "grid_row": null,
            "max_height": null,
            "align_content": null,
            "visibility": null,
            "align_self": null,
            "height": null,
            "min_height": null,
            "padding": null,
            "grid_auto_rows": null,
            "grid_gap": null,
            "max_width": null,
            "order": null,
            "_view_module_version": "1.2.0",
            "grid_template_areas": null,
            "object_position": null,
            "object_fit": null,
            "grid_auto_columns": null,
            "margin": null,
            "display": null,
            "left": null
          }
        },
        "d492046f27334a7d8d70b227aba50c88": {
          "model_module": "@jupyter-widgets/base",
          "model_name": "LayoutModel",
          "model_module_version": "1.2.0",
          "state": {
            "_view_name": "LayoutView",
            "grid_template_rows": null,
            "right": null,
            "justify_content": null,
            "_view_module": "@jupyter-widgets/base",
            "overflow": null,
            "_model_module_version": "1.2.0",
            "_view_count": null,
            "flex_flow": null,
            "width": null,
            "min_width": null,
            "border": null,
            "align_items": null,
            "bottom": null,
            "_model_module": "@jupyter-widgets/base",
            "top": null,
            "grid_column": null,
            "overflow_y": null,
            "overflow_x": null,
            "grid_auto_flow": null,
            "grid_area": null,
            "grid_template_columns": null,
            "flex": null,
            "_model_name": "LayoutModel",
            "justify_items": null,
            "grid_row": null,
            "max_height": null,
            "align_content": null,
            "visibility": null,
            "align_self": null,
            "height": null,
            "min_height": null,
            "padding": null,
            "grid_auto_rows": null,
            "grid_gap": null,
            "max_width": null,
            "order": null,
            "_view_module_version": "1.2.0",
            "grid_template_areas": null,
            "object_position": null,
            "object_fit": null,
            "grid_auto_columns": null,
            "margin": null,
            "display": null,
            "left": null
          }
        },
        "9e900bb352584ebc90b34b82ad731851": {
          "model_module": "@jupyter-widgets/base",
          "model_name": "LayoutModel",
          "model_module_version": "1.2.0",
          "state": {
            "_view_name": "LayoutView",
            "grid_template_rows": null,
            "right": null,
            "justify_content": null,
            "_view_module": "@jupyter-widgets/base",
            "overflow": null,
            "_model_module_version": "1.2.0",
            "_view_count": null,
            "flex_flow": null,
            "width": "600px",
            "min_width": null,
            "border": null,
            "align_items": null,
            "bottom": null,
            "_model_module": "@jupyter-widgets/base",
            "top": null,
            "grid_column": null,
            "overflow_y": null,
            "overflow_x": null,
            "grid_auto_flow": null,
            "grid_area": null,
            "grid_template_columns": null,
            "flex": null,
            "_model_name": "LayoutModel",
            "justify_items": null,
            "grid_row": null,
            "max_height": null,
            "align_content": null,
            "visibility": null,
            "align_self": null,
            "height": "300px",
            "min_height": null,
            "padding": null,
            "grid_auto_rows": null,
            "grid_gap": null,
            "max_width": null,
            "order": null,
            "_view_module_version": "1.2.0",
            "grid_template_areas": null,
            "object_position": null,
            "object_fit": null,
            "grid_auto_columns": null,
            "margin": null,
            "display": null,
            "left": null
          }
        }
      }
    }
  },
  "cells": [
    {
      "cell_type": "markdown",
      "metadata": {
        "id": "view-in-github",
        "colab_type": "text"
      },
      "source": [
        "<a href=\"https://colab.research.google.com/github/team-signpin/signpin/blob/main/SignPin.ipynb\" target=\"_parent\"><img src=\"https://colab.research.google.com/assets/colab-badge.svg\" alt=\"Open In Colab\"/></a>"
      ]
    },
    {
      "cell_type": "markdown",
      "source": [
        "# SignPin\n",
        "\n",
        "## How To Run\n",
        "\n",
        "1. Go to your Google Drive and then click \"**Shared with me**\".\n",
        "2. Find the \"**SignPin**\" folder that is shared with you.\n",
        "3. **Right-click** \"SignPin\" and choose \"**Add shortcut to drive**\"\n",
        "4. Cilck on \"**My Drive**\" from the popover men\n",
        "5. Click \"**Add Shortcut**\" from the same menu.\n",
        "\n",
        "Note: You only need to do this once; the first time."
      ],
      "metadata": {
        "id": "rJL99eUYeV3z"
      }
    },
    {
      "cell_type": "code",
      "source": [
        "!pip install ipycanvas"
      ],
      "metadata": {
        "id": "_wuMaMpjrbWH"
      },
      "execution_count": null,
      "outputs": []
    },
    {
      "cell_type": "code",
      "source": [
        "!pip install ipywidgets"
      ],
      "metadata": {
        "id": "xyxHHxzPsScO"
      },
      "execution_count": null,
      "outputs": []
    },
    {
      "cell_type": "code",
      "source": [
        "from google.colab import output\n",
        "output.enable_custom_widget_manager()"
      ],
      "metadata": {
        "id": "GpM4igtjrpP1"
      },
      "execution_count": null,
      "outputs": []
    },
    {
      "cell_type": "code",
      "source": [
        "from google.colab import drive\n",
        "drive.mount('/content/drive')"
      ],
      "metadata": {
        "colab": {
          "base_uri": "https://localhost:8080/"
        },
        "id": "9PaVqMQ8dai1",
        "outputId": "111cad8b-9c79-4cd5-b862-3e4a46df36e3"
      },
      "execution_count": null,
      "outputs": [
        {
          "output_type": "stream",
          "name": "stdout",
          "text": [
            "Drive already mounted at /content/drive; to attempt to forcibly remount, call drive.mount(\"/content/drive\", force_remount=True).\n"
          ]
        }
      ]
    },
    {
      "cell_type": "code",
      "source": [
        "import json\n",
        "import numpy as np\n",
        "from sklearn.preprocessing import normalize"
      ],
      "metadata": {
        "id": "pQ7ytVvPse6e"
      },
      "execution_count": null,
      "outputs": []
    },
    {
      "cell_type": "code",
      "source": [
        "from ipywidgets import interact, interactive, HBox, VBox\n",
        "import ipywidgets as widgets"
      ],
      "metadata": {
        "id": "RGcUl7q0sbQe"
      },
      "execution_count": null,
      "outputs": []
    },
    {
      "cell_type": "code",
      "execution_count": null,
      "metadata": {
        "id": "xmh3oKxUrFSO"
      },
      "outputs": [],
      "source": [
        "from ipycanvas import Canvas, hold_canvas"
      ]
    },
    {
      "cell_type": "code",
      "source": [
        "with open('/content/drive/MyDrive/SignPin/data.json', 'r') as oldDataFile:\n",
        "  oldData = json.loads(oldDataFile.read())"
      ],
      "metadata": {
        "id": "CXk0mLiNsspt"
      },
      "execution_count": null,
      "outputs": []
    },
    {
      "cell_type": "code",
      "source": [
        "canvas = Canvas(width=600, height=300)\n",
        "canvas.layout.width = f'{canvas.width}px'\n",
        "canvas.layout.height = f'{canvas.height}px'"
      ],
      "metadata": {
        "id": "UNLWOQvIrG91"
      },
      "execution_count": null,
      "outputs": []
    },
    {
      "cell_type": "code",
      "source": [
        "byNickname = {}\n",
        "\n",
        "for signature in oldData['signatures']:\n",
        "  nickname = signature['nickname']\n",
        "\n",
        "  if nickname not in byNickname:\n",
        "    byNickname[nickname] = []\n",
        "\n",
        "  byNickname[nickname].append(signature['data'])"
      ],
      "metadata": {
        "id": "XROSDdNfr4W1"
      },
      "execution_count": null,
      "outputs": []
    },
    {
      "cell_type": "code",
      "source": [
        "def rotationMatrix(theta = np.pi / 2):\n",
        "  cos, sin = np.cos(theta), np.sin(theta)\n",
        "\n",
        "  return np.array(\n",
        "    (\n",
        "      (cos, -sin),\n",
        "      (sin,  cos)\n",
        "    )\n",
        "  )"
      ],
      "metadata": {
        "id": "kMjD7yQa8o30"
      },
      "execution_count": null,
      "outputs": []
    },
    {
      "cell_type": "code",
      "source": [
        "def processBasicArray(basicArray):\n",
        "  tyCount = 0\n",
        "  tys = basicArray[:, 3]\n",
        "  lastTy = tys[0]\n",
        "\n",
        "  for i in range(1, len(tys)):\n",
        "    ty = tys[i]\n",
        "\n",
        "    if lastTy != ty:\n",
        "      tyCount += 1\n",
        "      tys[i - 1] = tyCount\n",
        "\n",
        "    tys[i] = tyCount\n",
        "    lastTy = ty\n",
        "\n",
        "  basicArray[:, 3] = tys\n",
        "\n",
        "  rotate90 = rotationMatrix()\n",
        "  R = rotate90\n",
        "\n",
        "  basicArray[:, 0:2] = basicArray[:, 0:2] @ R\n",
        "\n",
        "  xCoords = basicArray[:, 0]\n",
        "  yCoords = basicArray[:, 1]\n",
        "\n",
        "  # Calculate the gradient of straightline of best fit & take x-axis gradient.\n",
        "  incline = np.polyfit(xCoords, yCoords, 1)[0]\n",
        "\n",
        "  # Calculate Radians from gradient and take negative for straightening transform.\n",
        "  inclineRadians = np.arctan(incline)*1\n",
        "\n",
        "  straightenR = rotationMatrix(inclineRadians)\n",
        "  basicArray[:, 0:2] = basicArray[:, 0:2] @ straightenR\n",
        "\n",
        "  w, h = basicArray[:, 0:2].max(axis = 0) - basicArray[:, 0:2].min(axis = 0)\n",
        "  ratio = w/h\n",
        "\n",
        "  normalizeTillColumn = 4\n",
        "  basicArray[:, 0:normalizeTillColumn] = basicArray[:, 0:normalizeTillColumn] - basicArray[:, 0:normalizeTillColumn].min(axis = 0)\n",
        "  basicArray[:, 0:normalizeTillColumn] = basicArray[:, 0:normalizeTillColumn] / basicArray[:, 0:normalizeTillColumn].max(axis = 0)\n",
        "\n",
        "  return (basicArray, ratio)"
      ],
      "metadata": {
        "id": "5rxxSXmV1gBy"
      },
      "execution_count": null,
      "outputs": []
    },
    {
      "cell_type": "code",
      "source": [
        "def renderSignature(canvas, processedData, animate = False):\n",
        "  canvas.clear()\n",
        "  data, ratio = processedData\n",
        "\n",
        "  if ratio > (canvas.width / canvas.height):\n",
        "    width = canvas.width\n",
        "    height = canvas.width / ratio\n",
        "    yOffset = (canvas.height - height) / 2\n",
        "    xOffset = 0\n",
        "\n",
        "  else:\n",
        "    height = canvas.height\n",
        "    width = height * ratio\n",
        "    yOffset = 0\n",
        "    xOffset = (canvas.width - width) / 2\n",
        "\n",
        "\n",
        "  with hold_canvas(canvas):\n",
        "    for i in range(len(data) - 1):\n",
        "      xi, yi, tii, peni = data[i]\n",
        "      xj, yj, tij, penj = data[i + 1]\n",
        "\n",
        "      canvas.begin_path()\n",
        "      canvas.stroke_style = f'hsl({peni * 270}, 100%, 50%)';\n",
        "\n",
        "      canvas.move_to(\n",
        "          xOffset + xi * width,\n",
        "          yOffset + yi * height\n",
        "      )\n",
        "\n",
        "      canvas.line_to(\n",
        "          xOffset + xj * width,\n",
        "          yOffset + yj * height\n",
        "      )\n",
        "\n",
        "      canvas.stroke()\n",
        "      canvas.close_path()\n",
        "\n",
        "      if animate:\n",
        "        canvas.sleep(\n",
        "            float(speedSelector.value) * 1000 * (tij - tii)\n",
        "        )"
      ],
      "metadata": {
        "id": "keEW_Ar42DUE"
      },
      "execution_count": null,
      "outputs": []
    },
    {
      "cell_type": "code",
      "source": [
        "def oldDataArray(nickname, index):\n",
        "  basicArray = np.array([\n",
        "          (row['x'], row['y'], row['ti'], row['ty'])\n",
        "          for row in byNickname[nickname][index]\n",
        "  ])\n",
        "\n",
        "  return processBasicArray(basicArray)"
      ],
      "metadata": {
        "id": "9VgxldVF1rD6"
      },
      "execution_count": null,
      "outputs": []
    },
    {
      "cell_type": "code",
      "source": [
        "nicknameSelector = widgets.Dropdown(\n",
        "    options=tuple(byNickname.keys()),\n",
        "    description='Nicknames: ',\n",
        ")\n",
        "\n",
        "signatureSelector = widgets.Dropdown(\n",
        "    options=tuple(range(0, len(byNickname[nicknameSelector.value]))),\n",
        "    description='Sign: ',\n",
        ")\n",
        "\n",
        "speedSelector = widgets.FloatSlider(\n",
        "    value=1,\n",
        "    min=0.3,\n",
        "    max=10.0,\n",
        "    description='Speed (s): ',\n",
        ")\n",
        "\n",
        "animateButton = widgets.Button(\n",
        "    description='Animate'\n",
        ")\n",
        "\n",
        "def render(animate = False):\n",
        "  nickname = nicknameSelector.value\n",
        "  index = int(signatureSelector.value)\n",
        "\n",
        "  renderSignature(canvas, oldDataArray(nickname, index), animate)\n",
        "\n",
        "\n",
        "def chooseNickname(nickname):\n",
        "  signatureSelector.options = tuple(range(0, len(byNickname[nickname])))\n",
        "  signatureSelector.value = 0\n",
        "\n",
        "def chooseSignature(index):\n",
        "  render()\n",
        "\n",
        "def animate(_):\n",
        "  render(True)\n",
        "\n",
        "\n",
        "nicknameSelectorInteractive = interactive(chooseNickname, nickname = nicknameSelector)\n",
        "signatureSelectorInteractive = interactive(chooseSignature, index = signatureSelector)\n",
        "animateButton.on_click(animate)\n",
        "\n",
        "VBox([\n",
        "      HBox([nicknameSelectorInteractive, signatureSelectorInteractive, speedSelector, animateButton]),\n",
        "      canvas\n",
        "])"
      ],
      "metadata": {
        "colab": {
          "base_uri": "https://localhost:8080/",
          "height": 349,
          "referenced_widgets": [
            "8451ea864b6d4b358ee43c768a93a260",
            "723ee4552cec4ef2b7d4773c87157958",
            "c019c91bb3fa457bb4bf80ea3a1d7645",
            "1a33014ead644cda9763b8f19c0f9f08",
            "0653f468964e45789f9b87ce7891fa53",
            "ff99a85111e44ec0bc033ce250665386",
            "1cd71a5367f14d8cba3b18c384d20ff1",
            "edeaa06c3bb3450dbf15ae5196b47538",
            "312859fd26a34e309a8eeee1fd3a321d",
            "f0bc6d524f6c4bfe891738345e7ec0c7",
            "cc3c8de9a2b74d77bcbb20afeac1d70c",
            "4657dea8a46e4e509b4bf2d5857a7426",
            "d5c226c183724df49d797da3edde0cfa",
            "5185c07dde93475fb5eda04d9b6f291d",
            "5c25a290abc04406a907cc612e4ce1c6",
            "7b5ecc55b7d94c7c83516db4adec4ae9",
            "933130af00814fefb1cf44c1bc7d7c2c",
            "0e738773407f404a9c28d64a07fbf0a3",
            "8c75c51c94244e90bdd9b2a5e574e0b4",
            "87f4bf5f56174592841f2b48b797091f",
            "54aedcefbaf14ba9b7d2b46b66657edb",
            "26b85c26b6634ad2b3f93260e092e3be",
            "75629299770d496b88a0d22acf137b7d",
            "c7ba6fe0256b477598d27e24b22b77d9",
            "d492046f27334a7d8d70b227aba50c88",
            "9e900bb352584ebc90b34b82ad731851"
          ]
        },
        "id": "3nSzCy4bv7FJ",
        "outputId": "59ad8b46-0690-4550-dca6-0906a8659162"
      },
      "execution_count": null,
      "outputs": [
        {
          "output_type": "display_data",
          "data": {
            "application/vnd.jupyter.widget-view+json": {
              "model_id": "8451ea864b6d4b358ee43c768a93a260",
              "version_minor": 0,
              "version_major": 2
            },
            "text/plain": [
              "VBox(children=(HBox(children=(interactive(children=(Dropdown(description='Nicknames: ', options=('OMRAN', 'RUM…"
            ]
          },
          "metadata": {
            "application/vnd.jupyter.widget-view+json": {
              "colab": {
                "custom_widget_manager": {
                  "url": "https://ssl.gstatic.com/colaboratory-static/widgets/colab-cdn-widget-manager/a8874ba6619b6106/manager.min.js"
                }
              }
            }
          }
        }
      ]
    }
  ]
}