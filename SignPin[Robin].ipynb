{
  "nbformat": 4,
  "nbformat_minor": 0,
  "metadata": {
    "colab": {
      "name": "SignPin[Robin].ipynb",
      "provenance": [],
      "collapsed_sections": [],
      "include_colab_link": true
    },
    "kernelspec": {
      "name": "python3",
      "display_name": "Python 3"
    },
    "language_info": {
      "name": "python"
    },
    "widgets": {
      "application/vnd.jupyter.widget-state+json": {
        "792c74d170da4ba1a5b7b6f57ebda87b": {
          "model_module": "@jupyter-widgets/controls",
          "model_name": "VBoxModel",
          "model_module_version": "1.5.0",
          "state": {
            "_view_name": "VBoxView",
            "_dom_classes": [],
            "_model_name": "VBoxModel",
            "_view_module": "@jupyter-widgets/controls",
            "_model_module_version": "1.5.0",
            "_view_count": null,
            "_view_module_version": "1.5.0",
            "box_style": "",
            "layout": "IPY_MODEL_5b585f3fbbec4ce68dbb2175b804aacd",
            "_model_module": "@jupyter-widgets/controls",
            "children": [
              "IPY_MODEL_9e9bf902b3cc4d9786f3c10a7db94747",
              "IPY_MODEL_77abba478a7e45adb4e91194c471e286"
            ]
          }
        },
        "5b585f3fbbec4ce68dbb2175b804aacd": {
          "model_module": "@jupyter-widgets/base",
          "model_name": "LayoutModel",
          "model_module_version": "1.2.0",
          "state": {
            "_view_name": "LayoutView",
            "grid_template_rows": null,
            "right": null,
            "justify_content": null,
            "_view_module": "@jupyter-widgets/base",
            "overflow": null,
            "_model_module_version": "1.2.0",
            "_view_count": null,
            "flex_flow": null,
            "width": null,
            "min_width": null,
            "border": null,
            "align_items": null,
            "bottom": null,
            "_model_module": "@jupyter-widgets/base",
            "top": null,
            "grid_column": null,
            "overflow_y": null,
            "overflow_x": null,
            "grid_auto_flow": null,
            "grid_area": null,
            "grid_template_columns": null,
            "flex": null,
            "_model_name": "LayoutModel",
            "justify_items": null,
            "grid_row": null,
            "max_height": null,
            "align_content": null,
            "visibility": null,
            "align_self": null,
            "height": null,
            "min_height": null,
            "padding": null,
            "grid_auto_rows": null,
            "grid_gap": null,
            "max_width": null,
            "order": null,
            "_view_module_version": "1.2.0",
            "grid_template_areas": null,
            "object_position": null,
            "object_fit": null,
            "grid_auto_columns": null,
            "margin": null,
            "display": null,
            "left": null
          }
        },
        "9e9bf902b3cc4d9786f3c10a7db94747": {
          "model_module": "@jupyter-widgets/controls",
          "model_name": "HBoxModel",
          "model_module_version": "1.5.0",
          "state": {
            "_view_name": "HBoxView",
            "_dom_classes": [],
            "_model_name": "HBoxModel",
            "_view_module": "@jupyter-widgets/controls",
            "_model_module_version": "1.5.0",
            "_view_count": null,
            "_view_module_version": "1.5.0",
            "box_style": "",
            "layout": "IPY_MODEL_5eb503d4e205473eb181fd176209a3a7",
            "_model_module": "@jupyter-widgets/controls",
            "children": [
              "IPY_MODEL_d1ab93ac709946b088bbae7be58a4682",
              "IPY_MODEL_efc4ee7bf32f4e9b8bc2a2e087697f82",
              "IPY_MODEL_aea2fc18b59b43bb9202cc978aa80509",
              "IPY_MODEL_3427f8d7fb6a4128a08d17feba29cf74"
            ]
          }
        },
        "77abba478a7e45adb4e91194c471e286": {
          "model_module": "ipycanvas",
          "model_name": "CanvasModel",
          "model_module_version": "^0.10.2",
          "state": {
            "_view_name": "CanvasView",
            "_dom_classes": [],
            "_model_name": "CanvasModel",
            "_view_module": "ipycanvas",
            "_model_module_version": "^0.10.2",
            "_view_count": null,
            "_send_client_ready_event": true,
            "width": 600,
            "_view_module_version": "^0.10.2",
            "sync_image_data": false,
            "image_data": null,
            "layout": "IPY_MODEL_594ee46cf2c54775856df768de0d9bd2",
            "height": 300,
            "_model_module": "ipycanvas"
          }
        },
        "5eb503d4e205473eb181fd176209a3a7": {
          "model_module": "@jupyter-widgets/base",
          "model_name": "LayoutModel",
          "model_module_version": "1.2.0",
          "state": {
            "_view_name": "LayoutView",
            "grid_template_rows": null,
            "right": null,
            "justify_content": null,
            "_view_module": "@jupyter-widgets/base",
            "overflow": null,
            "_model_module_version": "1.2.0",
            "_view_count": null,
            "flex_flow": null,
            "width": null,
            "min_width": null,
            "border": null,
            "align_items": null,
            "bottom": null,
            "_model_module": "@jupyter-widgets/base",
            "top": null,
            "grid_column": null,
            "overflow_y": null,
            "overflow_x": null,
            "grid_auto_flow": null,
            "grid_area": null,
            "grid_template_columns": null,
            "flex": null,
            "_model_name": "LayoutModel",
            "justify_items": null,
            "grid_row": null,
            "max_height": null,
            "align_content": null,
            "visibility": null,
            "align_self": null,
            "height": null,
            "min_height": null,
            "padding": null,
            "grid_auto_rows": null,
            "grid_gap": null,
            "max_width": null,
            "order": null,
            "_view_module_version": "1.2.0",
            "grid_template_areas": null,
            "object_position": null,
            "object_fit": null,
            "grid_auto_columns": null,
            "margin": null,
            "display": null,
            "left": null
          }
        },
        "d1ab93ac709946b088bbae7be58a4682": {
          "model_module": "@jupyter-widgets/controls",
          "model_name": "VBoxModel",
          "model_module_version": "1.5.0",
          "state": {
            "_view_name": "VBoxView",
            "_dom_classes": [
              "widget-interact"
            ],
            "_model_name": "VBoxModel",
            "_view_module": "@jupyter-widgets/controls",
            "_model_module_version": "1.5.0",
            "_view_count": null,
            "_view_module_version": "1.5.0",
            "box_style": "",
            "layout": "IPY_MODEL_e6406d9fe7c248f489370aff58adfb56",
            "_model_module": "@jupyter-widgets/controls",
            "children": [
              "IPY_MODEL_8c46d72e47824d3a9c7ae71a51b06105",
              "IPY_MODEL_277031c0df5c43fa881a47d337bb809f"
            ]
          }
        },
        "efc4ee7bf32f4e9b8bc2a2e087697f82": {
          "model_module": "@jupyter-widgets/controls",
          "model_name": "VBoxModel",
          "model_module_version": "1.5.0",
          "state": {
            "_view_name": "VBoxView",
            "_dom_classes": [
              "widget-interact"
            ],
            "_model_name": "VBoxModel",
            "_view_module": "@jupyter-widgets/controls",
            "_model_module_version": "1.5.0",
            "_view_count": null,
            "_view_module_version": "1.5.0",
            "box_style": "",
            "layout": "IPY_MODEL_c7633b64220d4242a457e40f148c65a3",
            "_model_module": "@jupyter-widgets/controls",
            "children": [
              "IPY_MODEL_816005d7491a488e92c8809a5c141a40",
              "IPY_MODEL_3101508041824dca96304771c4a6c196"
            ]
          }
        },
        "aea2fc18b59b43bb9202cc978aa80509": {
          "model_module": "@jupyter-widgets/controls",
          "model_name": "FloatSliderModel",
          "model_module_version": "1.5.0",
          "state": {
            "_view_name": "FloatSliderView",
            "style": "IPY_MODEL_4274a1ce3c3b4dbbafb82d765c6832c6",
            "_dom_classes": [],
            "description": "Speed (s): ",
            "step": 0.1,
            "_model_name": "FloatSliderModel",
            "orientation": "horizontal",
            "max": 10,
            "_view_module": "@jupyter-widgets/controls",
            "_model_module_version": "1.5.0",
            "value": 1,
            "_view_count": null,
            "disabled": false,
            "_view_module_version": "1.5.0",
            "min": 0.3,
            "continuous_update": true,
            "readout_format": ".2f",
            "description_tooltip": null,
            "readout": true,
            "_model_module": "@jupyter-widgets/controls",
            "layout": "IPY_MODEL_b44ddb04fba64019b3d53cdf94fda52d"
          }
        },
        "3427f8d7fb6a4128a08d17feba29cf74": {
          "model_module": "@jupyter-widgets/controls",
          "model_name": "ButtonModel",
          "model_module_version": "1.5.0",
          "state": {
            "_view_name": "ButtonView",
            "style": "IPY_MODEL_90f595f9297c4578ae46bb8baf4f9dcf",
            "_dom_classes": [],
            "description": "Animate",
            "_model_name": "ButtonModel",
            "button_style": "",
            "_view_module": "@jupyter-widgets/controls",
            "_model_module_version": "1.5.0",
            "tooltip": "",
            "_view_count": null,
            "disabled": false,
            "_view_module_version": "1.5.0",
            "layout": "IPY_MODEL_dc41355a60044d0cbb54021f6f7e7d93",
            "_model_module": "@jupyter-widgets/controls",
            "icon": ""
          }
        },
        "e6406d9fe7c248f489370aff58adfb56": {
          "model_module": "@jupyter-widgets/base",
          "model_name": "LayoutModel",
          "model_module_version": "1.2.0",
          "state": {
            "_view_name": "LayoutView",
            "grid_template_rows": null,
            "right": null,
            "justify_content": null,
            "_view_module": "@jupyter-widgets/base",
            "overflow": null,
            "_model_module_version": "1.2.0",
            "_view_count": null,
            "flex_flow": null,
            "width": null,
            "min_width": null,
            "border": null,
            "align_items": null,
            "bottom": null,
            "_model_module": "@jupyter-widgets/base",
            "top": null,
            "grid_column": null,
            "overflow_y": null,
            "overflow_x": null,
            "grid_auto_flow": null,
            "grid_area": null,
            "grid_template_columns": null,
            "flex": null,
            "_model_name": "LayoutModel",
            "justify_items": null,
            "grid_row": null,
            "max_height": null,
            "align_content": null,
            "visibility": null,
            "align_self": null,
            "height": null,
            "min_height": null,
            "padding": null,
            "grid_auto_rows": null,
            "grid_gap": null,
            "max_width": null,
            "order": null,
            "_view_module_version": "1.2.0",
            "grid_template_areas": null,
            "object_position": null,
            "object_fit": null,
            "grid_auto_columns": null,
            "margin": null,
            "display": null,
            "left": null
          }
        },
        "8c46d72e47824d3a9c7ae71a51b06105": {
          "model_module": "@jupyter-widgets/controls",
          "model_name": "DropdownModel",
          "model_module_version": "1.5.0",
          "state": {
            "_options_labels": [
              "OMRAN",
              "RUMA",
              "SAMI",
              "SAMIHA"
            ],
            "_view_name": "DropdownView",
            "style": "IPY_MODEL_8fd3c3f525dc43d88531bb69bd7688cb",
            "_dom_classes": [],
            "description": "Nicknames: ",
            "_model_name": "DropdownModel",
            "index": 0,
            "_view_module": "@jupyter-widgets/controls",
            "_model_module_version": "1.5.0",
            "_view_count": null,
            "disabled": false,
            "_view_module_version": "1.5.0",
            "description_tooltip": null,
            "_model_module": "@jupyter-widgets/controls",
            "layout": "IPY_MODEL_25eadef5353d4513a94f1306c61b70b6"
          }
        },
        "277031c0df5c43fa881a47d337bb809f": {
          "model_module": "@jupyter-widgets/output",
          "model_name": "OutputModel",
          "model_module_version": "1.0.0",
          "state": {
            "_view_name": "OutputView",
            "msg_id": "",
            "_dom_classes": [],
            "_model_name": "OutputModel",
            "outputs": [],
            "_view_module": "@jupyter-widgets/output",
            "_model_module_version": "1.0.0",
            "_view_count": null,
            "_view_module_version": "1.0.0",
            "layout": "IPY_MODEL_74cb9aea558c480eadf589936c839528",
            "_model_module": "@jupyter-widgets/output"
          }
        },
        "c7633b64220d4242a457e40f148c65a3": {
          "model_module": "@jupyter-widgets/base",
          "model_name": "LayoutModel",
          "model_module_version": "1.2.0",
          "state": {
            "_view_name": "LayoutView",
            "grid_template_rows": null,
            "right": null,
            "justify_content": null,
            "_view_module": "@jupyter-widgets/base",
            "overflow": null,
            "_model_module_version": "1.2.0",
            "_view_count": null,
            "flex_flow": null,
            "width": null,
            "min_width": null,
            "border": null,
            "align_items": null,
            "bottom": null,
            "_model_module": "@jupyter-widgets/base",
            "top": null,
            "grid_column": null,
            "overflow_y": null,
            "overflow_x": null,
            "grid_auto_flow": null,
            "grid_area": null,
            "grid_template_columns": null,
            "flex": null,
            "_model_name": "LayoutModel",
            "justify_items": null,
            "grid_row": null,
            "max_height": null,
            "align_content": null,
            "visibility": null,
            "align_self": null,
            "height": null,
            "min_height": null,
            "padding": null,
            "grid_auto_rows": null,
            "grid_gap": null,
            "max_width": null,
            "order": null,
            "_view_module_version": "1.2.0",
            "grid_template_areas": null,
            "object_position": null,
            "object_fit": null,
            "grid_auto_columns": null,
            "margin": null,
            "display": null,
            "left": null
          }
        },
        "816005d7491a488e92c8809a5c141a40": {
          "model_module": "@jupyter-widgets/controls",
          "model_name": "DropdownModel",
          "model_module_version": "1.5.0",
          "state": {
            "_options_labels": [
              "0",
              "1",
              "2",
              "3",
              "4"
            ],
            "_view_name": "DropdownView",
            "style": "IPY_MODEL_6881c1a072c0441aa68169eea9e25a89",
            "_dom_classes": [],
            "description": "Sign: ",
            "_model_name": "DropdownModel",
            "index": 0,
            "_view_module": "@jupyter-widgets/controls",
            "_model_module_version": "1.5.0",
            "_view_count": null,
            "disabled": false,
            "_view_module_version": "1.5.0",
            "description_tooltip": null,
            "_model_module": "@jupyter-widgets/controls",
            "layout": "IPY_MODEL_43efdb9cc7f14004bb34e928c2d4f16a"
          }
        },
        "3101508041824dca96304771c4a6c196": {
          "model_module": "@jupyter-widgets/output",
          "model_name": "OutputModel",
          "model_module_version": "1.0.0",
          "state": {
            "_view_name": "OutputView",
            "msg_id": "",
            "_dom_classes": [],
            "_model_name": "OutputModel",
            "outputs": [],
            "_view_module": "@jupyter-widgets/output",
            "_model_module_version": "1.0.0",
            "_view_count": null,
            "_view_module_version": "1.0.0",
            "layout": "IPY_MODEL_3ad1d9ff083147e7bf2f6ddd9a48e49d",
            "_model_module": "@jupyter-widgets/output"
          }
        },
        "4274a1ce3c3b4dbbafb82d765c6832c6": {
          "model_module": "@jupyter-widgets/controls",
          "model_name": "SliderStyleModel",
          "model_module_version": "1.5.0",
          "state": {
            "_view_name": "StyleView",
            "handle_color": null,
            "_model_name": "SliderStyleModel",
            "description_width": "",
            "_view_module": "@jupyter-widgets/base",
            "_model_module_version": "1.5.0",
            "_view_count": null,
            "_view_module_version": "1.2.0",
            "_model_module": "@jupyter-widgets/controls"
          }
        },
        "b44ddb04fba64019b3d53cdf94fda52d": {
          "model_module": "@jupyter-widgets/base",
          "model_name": "LayoutModel",
          "model_module_version": "1.2.0",
          "state": {
            "_view_name": "LayoutView",
            "grid_template_rows": null,
            "right": null,
            "justify_content": null,
            "_view_module": "@jupyter-widgets/base",
            "overflow": null,
            "_model_module_version": "1.2.0",
            "_view_count": null,
            "flex_flow": null,
            "width": null,
            "min_width": null,
            "border": null,
            "align_items": null,
            "bottom": null,
            "_model_module": "@jupyter-widgets/base",
            "top": null,
            "grid_column": null,
            "overflow_y": null,
            "overflow_x": null,
            "grid_auto_flow": null,
            "grid_area": null,
            "grid_template_columns": null,
            "flex": null,
            "_model_name": "LayoutModel",
            "justify_items": null,
            "grid_row": null,
            "max_height": null,
            "align_content": null,
            "visibility": null,
            "align_self": null,
            "height": null,
            "min_height": null,
            "padding": null,
            "grid_auto_rows": null,
            "grid_gap": null,
            "max_width": null,
            "order": null,
            "_view_module_version": "1.2.0",
            "grid_template_areas": null,
            "object_position": null,
            "object_fit": null,
            "grid_auto_columns": null,
            "margin": null,
            "display": null,
            "left": null
          }
        },
        "90f595f9297c4578ae46bb8baf4f9dcf": {
          "model_module": "@jupyter-widgets/controls",
          "model_name": "ButtonStyleModel",
          "model_module_version": "1.5.0",
          "state": {
            "_view_name": "StyleView",
            "_model_name": "ButtonStyleModel",
            "_view_module": "@jupyter-widgets/base",
            "_model_module_version": "1.5.0",
            "_view_count": null,
            "button_color": null,
            "font_weight": "",
            "_view_module_version": "1.2.0",
            "_model_module": "@jupyter-widgets/controls"
          }
        },
        "dc41355a60044d0cbb54021f6f7e7d93": {
          "model_module": "@jupyter-widgets/base",
          "model_name": "LayoutModel",
          "model_module_version": "1.2.0",
          "state": {
            "_view_name": "LayoutView",
            "grid_template_rows": null,
            "right": null,
            "justify_content": null,
            "_view_module": "@jupyter-widgets/base",
            "overflow": null,
            "_model_module_version": "1.2.0",
            "_view_count": null,
            "flex_flow": null,
            "width": null,
            "min_width": null,
            "border": null,
            "align_items": null,
            "bottom": null,
            "_model_module": "@jupyter-widgets/base",
            "top": null,
            "grid_column": null,
            "overflow_y": null,
            "overflow_x": null,
            "grid_auto_flow": null,
            "grid_area": null,
            "grid_template_columns": null,
            "flex": null,
            "_model_name": "LayoutModel",
            "justify_items": null,
            "grid_row": null,
            "max_height": null,
            "align_content": null,
            "visibility": null,
            "align_self": null,
            "height": null,
            "min_height": null,
            "padding": null,
            "grid_auto_rows": null,
            "grid_gap": null,
            "max_width": null,
            "order": null,
            "_view_module_version": "1.2.0",
            "grid_template_areas": null,
            "object_position": null,
            "object_fit": null,
            "grid_auto_columns": null,
            "margin": null,
            "display": null,
            "left": null
          }
        },
        "8fd3c3f525dc43d88531bb69bd7688cb": {
          "model_module": "@jupyter-widgets/controls",
          "model_name": "DescriptionStyleModel",
          "model_module_version": "1.5.0",
          "state": {
            "_view_name": "StyleView",
            "_model_name": "DescriptionStyleModel",
            "description_width": "",
            "_view_module": "@jupyter-widgets/base",
            "_model_module_version": "1.5.0",
            "_view_count": null,
            "_view_module_version": "1.2.0",
            "_model_module": "@jupyter-widgets/controls"
          }
        },
        "25eadef5353d4513a94f1306c61b70b6": {
          "model_module": "@jupyter-widgets/base",
          "model_name": "LayoutModel",
          "model_module_version": "1.2.0",
          "state": {
            "_view_name": "LayoutView",
            "grid_template_rows": null,
            "right": null,
            "justify_content": null,
            "_view_module": "@jupyter-widgets/base",
            "overflow": null,
            "_model_module_version": "1.2.0",
            "_view_count": null,
            "flex_flow": null,
            "width": null,
            "min_width": null,
            "border": null,
            "align_items": null,
            "bottom": null,
            "_model_module": "@jupyter-widgets/base",
            "top": null,
            "grid_column": null,
            "overflow_y": null,
            "overflow_x": null,
            "grid_auto_flow": null,
            "grid_area": null,
            "grid_template_columns": null,
            "flex": null,
            "_model_name": "LayoutModel",
            "justify_items": null,
            "grid_row": null,
            "max_height": null,
            "align_content": null,
            "visibility": null,
            "align_self": null,
            "height": null,
            "min_height": null,
            "padding": null,
            "grid_auto_rows": null,
            "grid_gap": null,
            "max_width": null,
            "order": null,
            "_view_module_version": "1.2.0",
            "grid_template_areas": null,
            "object_position": null,
            "object_fit": null,
            "grid_auto_columns": null,
            "margin": null,
            "display": null,
            "left": null
          }
        },
        "74cb9aea558c480eadf589936c839528": {
          "model_module": "@jupyter-widgets/base",
          "model_name": "LayoutModel",
          "model_module_version": "1.2.0",
          "state": {
            "_view_name": "LayoutView",
            "grid_template_rows": null,
            "right": null,
            "justify_content": null,
            "_view_module": "@jupyter-widgets/base",
            "overflow": null,
            "_model_module_version": "1.2.0",
            "_view_count": null,
            "flex_flow": null,
            "width": null,
            "min_width": null,
            "border": null,
            "align_items": null,
            "bottom": null,
            "_model_module": "@jupyter-widgets/base",
            "top": null,
            "grid_column": null,
            "overflow_y": null,
            "overflow_x": null,
            "grid_auto_flow": null,
            "grid_area": null,
            "grid_template_columns": null,
            "flex": null,
            "_model_name": "LayoutModel",
            "justify_items": null,
            "grid_row": null,
            "max_height": null,
            "align_content": null,
            "visibility": null,
            "align_self": null,
            "height": null,
            "min_height": null,
            "padding": null,
            "grid_auto_rows": null,
            "grid_gap": null,
            "max_width": null,
            "order": null,
            "_view_module_version": "1.2.0",
            "grid_template_areas": null,
            "object_position": null,
            "object_fit": null,
            "grid_auto_columns": null,
            "margin": null,
            "display": null,
            "left": null
          }
        },
        "6881c1a072c0441aa68169eea9e25a89": {
          "model_module": "@jupyter-widgets/controls",
          "model_name": "DescriptionStyleModel",
          "model_module_version": "1.5.0",
          "state": {
            "_view_name": "StyleView",
            "_model_name": "DescriptionStyleModel",
            "description_width": "",
            "_view_module": "@jupyter-widgets/base",
            "_model_module_version": "1.5.0",
            "_view_count": null,
            "_view_module_version": "1.2.0",
            "_model_module": "@jupyter-widgets/controls"
          }
        },
        "43efdb9cc7f14004bb34e928c2d4f16a": {
          "model_module": "@jupyter-widgets/base",
          "model_name": "LayoutModel",
          "model_module_version": "1.2.0",
          "state": {
            "_view_name": "LayoutView",
            "grid_template_rows": null,
            "right": null,
            "justify_content": null,
            "_view_module": "@jupyter-widgets/base",
            "overflow": null,
            "_model_module_version": "1.2.0",
            "_view_count": null,
            "flex_flow": null,
            "width": null,
            "min_width": null,
            "border": null,
            "align_items": null,
            "bottom": null,
            "_model_module": "@jupyter-widgets/base",
            "top": null,
            "grid_column": null,
            "overflow_y": null,
            "overflow_x": null,
            "grid_auto_flow": null,
            "grid_area": null,
            "grid_template_columns": null,
            "flex": null,
            "_model_name": "LayoutModel",
            "justify_items": null,
            "grid_row": null,
            "max_height": null,
            "align_content": null,
            "visibility": null,
            "align_self": null,
            "height": null,
            "min_height": null,
            "padding": null,
            "grid_auto_rows": null,
            "grid_gap": null,
            "max_width": null,
            "order": null,
            "_view_module_version": "1.2.0",
            "grid_template_areas": null,
            "object_position": null,
            "object_fit": null,
            "grid_auto_columns": null,
            "margin": null,
            "display": null,
            "left": null
          }
        },
        "3ad1d9ff083147e7bf2f6ddd9a48e49d": {
          "model_module": "@jupyter-widgets/base",
          "model_name": "LayoutModel",
          "model_module_version": "1.2.0",
          "state": {
            "_view_name": "LayoutView",
            "grid_template_rows": null,
            "right": null,
            "justify_content": null,
            "_view_module": "@jupyter-widgets/base",
            "overflow": null,
            "_model_module_version": "1.2.0",
            "_view_count": null,
            "flex_flow": null,
            "width": null,
            "min_width": null,
            "border": null,
            "align_items": null,
            "bottom": null,
            "_model_module": "@jupyter-widgets/base",
            "top": null,
            "grid_column": null,
            "overflow_y": null,
            "overflow_x": null,
            "grid_auto_flow": null,
            "grid_area": null,
            "grid_template_columns": null,
            "flex": null,
            "_model_name": "LayoutModel",
            "justify_items": null,
            "grid_row": null,
            "max_height": null,
            "align_content": null,
            "visibility": null,
            "align_self": null,
            "height": null,
            "min_height": null,
            "padding": null,
            "grid_auto_rows": null,
            "grid_gap": null,
            "max_width": null,
            "order": null,
            "_view_module_version": "1.2.0",
            "grid_template_areas": null,
            "object_position": null,
            "object_fit": null,
            "grid_auto_columns": null,
            "margin": null,
            "display": null,
            "left": null
          }
        },
        "594ee46cf2c54775856df768de0d9bd2": {
          "model_module": "@jupyter-widgets/base",
          "model_name": "LayoutModel",
          "model_module_version": "1.2.0",
          "state": {
            "_view_name": "LayoutView",
            "grid_template_rows": null,
            "right": null,
            "justify_content": null,
            "_view_module": "@jupyter-widgets/base",
            "overflow": null,
            "_model_module_version": "1.2.0",
            "_view_count": null,
            "flex_flow": null,
            "width": "600px",
            "min_width": null,
            "border": null,
            "align_items": null,
            "bottom": null,
            "_model_module": "@jupyter-widgets/base",
            "top": null,
            "grid_column": null,
            "overflow_y": null,
            "overflow_x": null,
            "grid_auto_flow": null,
            "grid_area": null,
            "grid_template_columns": null,
            "flex": null,
            "_model_name": "LayoutModel",
            "justify_items": null,
            "grid_row": null,
            "max_height": null,
            "align_content": null,
            "visibility": null,
            "align_self": null,
            "height": "300px",
            "min_height": null,
            "padding": null,
            "grid_auto_rows": null,
            "grid_gap": null,
            "max_width": null,
            "order": null,
            "_view_module_version": "1.2.0",
            "grid_template_areas": null,
            "object_position": null,
            "object_fit": null,
            "grid_auto_columns": null,
            "margin": null,
            "display": null,
            "left": null
          }
        }
      }
    }
  },
  "cells": [
    {
      "cell_type": "markdown",
      "metadata": {
        "id": "view-in-github",
        "colab_type": "text"
      },
      "source": [
        "<a href=\"https://colab.research.google.com/github/team-signpin/signpin/blob/main/SignPin%5BRobin%5D.ipynb\" target=\"_parent\"><img src=\"https://colab.research.google.com/assets/colab-badge.svg\" alt=\"Open In Colab\"/></a>"
      ]
    },
    {
      "cell_type": "code",
      "source": [
        "!pip install ipycanvas"
      ],
      "metadata": {
        "id": "_wuMaMpjrbWH",
        "colab": {
          "base_uri": "https://localhost:8080/"
        },
        "outputId": "dda4ba05-5afc-400a-a7b2-463e147fe274"
      },
      "execution_count": null,
      "outputs": [
        {
          "output_type": "stream",
          "name": "stdout",
          "text": [
            "Collecting ipycanvas\n",
            "  Downloading ipycanvas-0.10.2-py2.py3-none-any.whl (253 kB)\n",
            "\u001b[?25l\r\u001b[K     |█▎                              | 10 kB 22.7 MB/s eta 0:00:01\r\u001b[K     |██▋                             | 20 kB 11.6 MB/s eta 0:00:01\r\u001b[K     |███▉                            | 30 kB 8.9 MB/s eta 0:00:01\r\u001b[K     |█████▏                          | 40 kB 8.2 MB/s eta 0:00:01\r\u001b[K     |██████▌                         | 51 kB 5.0 MB/s eta 0:00:01\r\u001b[K     |███████▊                        | 61 kB 5.2 MB/s eta 0:00:01\r\u001b[K     |█████████                       | 71 kB 5.4 MB/s eta 0:00:01\r\u001b[K     |██████████▎                     | 81 kB 6.0 MB/s eta 0:00:01\r\u001b[K     |███████████▋                    | 92 kB 4.5 MB/s eta 0:00:01\r\u001b[K     |█████████████                   | 102 kB 4.9 MB/s eta 0:00:01\r\u001b[K     |██████████████▏                 | 112 kB 4.9 MB/s eta 0:00:01\r\u001b[K     |███████████████▌                | 122 kB 4.9 MB/s eta 0:00:01\r\u001b[K     |████████████████▊               | 133 kB 4.9 MB/s eta 0:00:01\r\u001b[K     |██████████████████              | 143 kB 4.9 MB/s eta 0:00:01\r\u001b[K     |███████████████████▍            | 153 kB 4.9 MB/s eta 0:00:01\r\u001b[K     |████████████████████▋           | 163 kB 4.9 MB/s eta 0:00:01\r\u001b[K     |██████████████████████          | 174 kB 4.9 MB/s eta 0:00:01\r\u001b[K     |███████████████████████▎        | 184 kB 4.9 MB/s eta 0:00:01\r\u001b[K     |████████████████████████▌       | 194 kB 4.9 MB/s eta 0:00:01\r\u001b[K     |█████████████████████████▉      | 204 kB 4.9 MB/s eta 0:00:01\r\u001b[K     |███████████████████████████     | 215 kB 4.9 MB/s eta 0:00:01\r\u001b[K     |████████████████████████████▍   | 225 kB 4.9 MB/s eta 0:00:01\r\u001b[K     |█████████████████████████████▊  | 235 kB 4.9 MB/s eta 0:00:01\r\u001b[K     |███████████████████████████████ | 245 kB 4.9 MB/s eta 0:00:01\r\u001b[K     |████████████████████████████████| 253 kB 4.9 MB/s \n",
            "\u001b[?25hRequirement already satisfied: pillow>=6.0 in /usr/local/lib/python3.7/dist-packages (from ipycanvas) (7.1.2)\n",
            "Requirement already satisfied: numpy in /usr/local/lib/python3.7/dist-packages (from ipycanvas) (1.19.5)\n",
            "Requirement already satisfied: ipywidgets>=7.6.0 in /usr/local/lib/python3.7/dist-packages (from ipycanvas) (7.6.5)\n",
            "Requirement already satisfied: ipykernel>=4.5.1 in /usr/local/lib/python3.7/dist-packages (from ipywidgets>=7.6.0->ipycanvas) (4.10.1)\n",
            "Requirement already satisfied: traitlets>=4.3.1 in /usr/local/lib/python3.7/dist-packages (from ipywidgets>=7.6.0->ipycanvas) (5.1.1)\n",
            "Requirement already satisfied: ipython-genutils~=0.2.0 in /usr/local/lib/python3.7/dist-packages (from ipywidgets>=7.6.0->ipycanvas) (0.2.0)\n",
            "Requirement already satisfied: ipython>=4.0.0 in /usr/local/lib/python3.7/dist-packages (from ipywidgets>=7.6.0->ipycanvas) (5.5.0)\n",
            "Requirement already satisfied: widgetsnbextension~=3.5.0 in /usr/local/lib/python3.7/dist-packages (from ipywidgets>=7.6.0->ipycanvas) (3.5.2)\n",
            "Requirement already satisfied: nbformat>=4.2.0 in /usr/local/lib/python3.7/dist-packages (from ipywidgets>=7.6.0->ipycanvas) (5.1.3)\n",
            "Requirement already satisfied: jupyterlab-widgets>=1.0.0 in /usr/local/lib/python3.7/dist-packages (from ipywidgets>=7.6.0->ipycanvas) (1.0.2)\n",
            "Requirement already satisfied: jupyter-client in /usr/local/lib/python3.7/dist-packages (from ipykernel>=4.5.1->ipywidgets>=7.6.0->ipycanvas) (5.3.5)\n",
            "Requirement already satisfied: tornado>=4.0 in /usr/local/lib/python3.7/dist-packages (from ipykernel>=4.5.1->ipywidgets>=7.6.0->ipycanvas) (5.1.1)\n",
            "Requirement already satisfied: prompt-toolkit<2.0.0,>=1.0.4 in /usr/local/lib/python3.7/dist-packages (from ipython>=4.0.0->ipywidgets>=7.6.0->ipycanvas) (1.0.18)\n",
            "Requirement already satisfied: pickleshare in /usr/local/lib/python3.7/dist-packages (from ipython>=4.0.0->ipywidgets>=7.6.0->ipycanvas) (0.7.5)\n",
            "Requirement already satisfied: decorator in /usr/local/lib/python3.7/dist-packages (from ipython>=4.0.0->ipywidgets>=7.6.0->ipycanvas) (4.4.2)\n",
            "Requirement already satisfied: pexpect in /usr/local/lib/python3.7/dist-packages (from ipython>=4.0.0->ipywidgets>=7.6.0->ipycanvas) (4.8.0)\n",
            "Requirement already satisfied: simplegeneric>0.8 in /usr/local/lib/python3.7/dist-packages (from ipython>=4.0.0->ipywidgets>=7.6.0->ipycanvas) (0.8.1)\n",
            "Requirement already satisfied: pygments in /usr/local/lib/python3.7/dist-packages (from ipython>=4.0.0->ipywidgets>=7.6.0->ipycanvas) (2.6.1)\n",
            "Requirement already satisfied: setuptools>=18.5 in /usr/local/lib/python3.7/dist-packages (from ipython>=4.0.0->ipywidgets>=7.6.0->ipycanvas) (57.4.0)\n",
            "Requirement already satisfied: jsonschema!=2.5.0,>=2.4 in /usr/local/lib/python3.7/dist-packages (from nbformat>=4.2.0->ipywidgets>=7.6.0->ipycanvas) (4.3.3)\n",
            "Requirement already satisfied: jupyter-core in /usr/local/lib/python3.7/dist-packages (from nbformat>=4.2.0->ipywidgets>=7.6.0->ipycanvas) (4.9.1)\n",
            "Requirement already satisfied: attrs>=17.4.0 in /usr/local/lib/python3.7/dist-packages (from jsonschema!=2.5.0,>=2.4->nbformat>=4.2.0->ipywidgets>=7.6.0->ipycanvas) (21.4.0)\n",
            "Requirement already satisfied: typing-extensions in /usr/local/lib/python3.7/dist-packages (from jsonschema!=2.5.0,>=2.4->nbformat>=4.2.0->ipywidgets>=7.6.0->ipycanvas) (3.10.0.2)\n",
            "Requirement already satisfied: importlib-metadata in /usr/local/lib/python3.7/dist-packages (from jsonschema!=2.5.0,>=2.4->nbformat>=4.2.0->ipywidgets>=7.6.0->ipycanvas) (4.10.0)\n",
            "Requirement already satisfied: pyrsistent!=0.17.0,!=0.17.1,!=0.17.2,>=0.14.0 in /usr/local/lib/python3.7/dist-packages (from jsonschema!=2.5.0,>=2.4->nbformat>=4.2.0->ipywidgets>=7.6.0->ipycanvas) (0.18.0)\n",
            "Requirement already satisfied: importlib-resources>=1.4.0 in /usr/local/lib/python3.7/dist-packages (from jsonschema!=2.5.0,>=2.4->nbformat>=4.2.0->ipywidgets>=7.6.0->ipycanvas) (5.4.0)\n",
            "Requirement already satisfied: zipp>=3.1.0 in /usr/local/lib/python3.7/dist-packages (from importlib-resources>=1.4.0->jsonschema!=2.5.0,>=2.4->nbformat>=4.2.0->ipywidgets>=7.6.0->ipycanvas) (3.7.0)\n",
            "Requirement already satisfied: six>=1.9.0 in /usr/local/lib/python3.7/dist-packages (from prompt-toolkit<2.0.0,>=1.0.4->ipython>=4.0.0->ipywidgets>=7.6.0->ipycanvas) (1.15.0)\n",
            "Requirement already satisfied: wcwidth in /usr/local/lib/python3.7/dist-packages (from prompt-toolkit<2.0.0,>=1.0.4->ipython>=4.0.0->ipywidgets>=7.6.0->ipycanvas) (0.2.5)\n",
            "Requirement already satisfied: notebook>=4.4.1 in /usr/local/lib/python3.7/dist-packages (from widgetsnbextension~=3.5.0->ipywidgets>=7.6.0->ipycanvas) (5.3.1)\n",
            "Requirement already satisfied: terminado>=0.8.1 in /usr/local/lib/python3.7/dist-packages (from notebook>=4.4.1->widgetsnbextension~=3.5.0->ipywidgets>=7.6.0->ipycanvas) (0.12.1)\n",
            "Requirement already satisfied: nbconvert in /usr/local/lib/python3.7/dist-packages (from notebook>=4.4.1->widgetsnbextension~=3.5.0->ipywidgets>=7.6.0->ipycanvas) (5.6.1)\n",
            "Requirement already satisfied: Send2Trash in /usr/local/lib/python3.7/dist-packages (from notebook>=4.4.1->widgetsnbextension~=3.5.0->ipywidgets>=7.6.0->ipycanvas) (1.8.0)\n",
            "Requirement already satisfied: jinja2 in /usr/local/lib/python3.7/dist-packages (from notebook>=4.4.1->widgetsnbextension~=3.5.0->ipywidgets>=7.6.0->ipycanvas) (2.11.3)\n",
            "Requirement already satisfied: python-dateutil>=2.1 in /usr/local/lib/python3.7/dist-packages (from jupyter-client->ipykernel>=4.5.1->ipywidgets>=7.6.0->ipycanvas) (2.8.2)\n",
            "Requirement already satisfied: pyzmq>=13 in /usr/local/lib/python3.7/dist-packages (from jupyter-client->ipykernel>=4.5.1->ipywidgets>=7.6.0->ipycanvas) (22.3.0)\n",
            "Requirement already satisfied: ptyprocess in /usr/local/lib/python3.7/dist-packages (from terminado>=0.8.1->notebook>=4.4.1->widgetsnbextension~=3.5.0->ipywidgets>=7.6.0->ipycanvas) (0.7.0)\n",
            "Requirement already satisfied: MarkupSafe>=0.23 in /usr/local/lib/python3.7/dist-packages (from jinja2->notebook>=4.4.1->widgetsnbextension~=3.5.0->ipywidgets>=7.6.0->ipycanvas) (2.0.1)\n",
            "Requirement already satisfied: bleach in /usr/local/lib/python3.7/dist-packages (from nbconvert->notebook>=4.4.1->widgetsnbextension~=3.5.0->ipywidgets>=7.6.0->ipycanvas) (4.1.0)\n",
            "Requirement already satisfied: entrypoints>=0.2.2 in /usr/local/lib/python3.7/dist-packages (from nbconvert->notebook>=4.4.1->widgetsnbextension~=3.5.0->ipywidgets>=7.6.0->ipycanvas) (0.3)\n",
            "Requirement already satisfied: mistune<2,>=0.8.1 in /usr/local/lib/python3.7/dist-packages (from nbconvert->notebook>=4.4.1->widgetsnbextension~=3.5.0->ipywidgets>=7.6.0->ipycanvas) (0.8.4)\n",
            "Requirement already satisfied: defusedxml in /usr/local/lib/python3.7/dist-packages (from nbconvert->notebook>=4.4.1->widgetsnbextension~=3.5.0->ipywidgets>=7.6.0->ipycanvas) (0.7.1)\n",
            "Requirement already satisfied: testpath in /usr/local/lib/python3.7/dist-packages (from nbconvert->notebook>=4.4.1->widgetsnbextension~=3.5.0->ipywidgets>=7.6.0->ipycanvas) (0.5.0)\n",
            "Requirement already satisfied: pandocfilters>=1.4.1 in /usr/local/lib/python3.7/dist-packages (from nbconvert->notebook>=4.4.1->widgetsnbextension~=3.5.0->ipywidgets>=7.6.0->ipycanvas) (1.5.0)\n",
            "Requirement already satisfied: packaging in /usr/local/lib/python3.7/dist-packages (from bleach->nbconvert->notebook>=4.4.1->widgetsnbextension~=3.5.0->ipywidgets>=7.6.0->ipycanvas) (21.3)\n",
            "Requirement already satisfied: webencodings in /usr/local/lib/python3.7/dist-packages (from bleach->nbconvert->notebook>=4.4.1->widgetsnbextension~=3.5.0->ipywidgets>=7.6.0->ipycanvas) (0.5.1)\n",
            "Requirement already satisfied: pyparsing!=3.0.5,>=2.0.2 in /usr/local/lib/python3.7/dist-packages (from packaging->bleach->nbconvert->notebook>=4.4.1->widgetsnbextension~=3.5.0->ipywidgets>=7.6.0->ipycanvas) (3.0.6)\n",
            "Installing collected packages: ipycanvas\n",
            "Successfully installed ipycanvas-0.10.2\n"
          ]
        }
      ]
    },
    {
      "cell_type": "code",
      "source": [
        "!pip install ipywidgets"
      ],
      "metadata": {
        "id": "xyxHHxzPsScO",
        "colab": {
          "base_uri": "https://localhost:8080/"
        },
        "outputId": "58d383b7-086f-415c-9f50-ca8b7dbab9aa"
      },
      "execution_count": null,
      "outputs": [
        {
          "output_type": "stream",
          "name": "stdout",
          "text": [
            "Requirement already satisfied: ipywidgets in /usr/local/lib/python3.7/dist-packages (7.6.5)\n",
            "Requirement already satisfied: jupyterlab-widgets>=1.0.0 in /usr/local/lib/python3.7/dist-packages (from ipywidgets) (1.0.2)\n",
            "Requirement already satisfied: ipykernel>=4.5.1 in /usr/local/lib/python3.7/dist-packages (from ipywidgets) (4.10.1)\n",
            "Requirement already satisfied: traitlets>=4.3.1 in /usr/local/lib/python3.7/dist-packages (from ipywidgets) (5.1.1)\n",
            "Requirement already satisfied: ipython>=4.0.0 in /usr/local/lib/python3.7/dist-packages (from ipywidgets) (5.5.0)\n",
            "Requirement already satisfied: nbformat>=4.2.0 in /usr/local/lib/python3.7/dist-packages (from ipywidgets) (5.1.3)\n",
            "Requirement already satisfied: ipython-genutils~=0.2.0 in /usr/local/lib/python3.7/dist-packages (from ipywidgets) (0.2.0)\n",
            "Requirement already satisfied: widgetsnbextension~=3.5.0 in /usr/local/lib/python3.7/dist-packages (from ipywidgets) (3.5.2)\n",
            "Requirement already satisfied: tornado>=4.0 in /usr/local/lib/python3.7/dist-packages (from ipykernel>=4.5.1->ipywidgets) (5.1.1)\n",
            "Requirement already satisfied: jupyter-client in /usr/local/lib/python3.7/dist-packages (from ipykernel>=4.5.1->ipywidgets) (5.3.5)\n",
            "Requirement already satisfied: pygments in /usr/local/lib/python3.7/dist-packages (from ipython>=4.0.0->ipywidgets) (2.6.1)\n",
            "Requirement already satisfied: prompt-toolkit<2.0.0,>=1.0.4 in /usr/local/lib/python3.7/dist-packages (from ipython>=4.0.0->ipywidgets) (1.0.18)\n",
            "Requirement already satisfied: pexpect in /usr/local/lib/python3.7/dist-packages (from ipython>=4.0.0->ipywidgets) (4.8.0)\n",
            "Requirement already satisfied: simplegeneric>0.8 in /usr/local/lib/python3.7/dist-packages (from ipython>=4.0.0->ipywidgets) (0.8.1)\n",
            "Requirement already satisfied: setuptools>=18.5 in /usr/local/lib/python3.7/dist-packages (from ipython>=4.0.0->ipywidgets) (57.4.0)\n",
            "Requirement already satisfied: decorator in /usr/local/lib/python3.7/dist-packages (from ipython>=4.0.0->ipywidgets) (4.4.2)\n",
            "Requirement already satisfied: pickleshare in /usr/local/lib/python3.7/dist-packages (from ipython>=4.0.0->ipywidgets) (0.7.5)\n",
            "Requirement already satisfied: jupyter-core in /usr/local/lib/python3.7/dist-packages (from nbformat>=4.2.0->ipywidgets) (4.9.1)\n",
            "Requirement already satisfied: jsonschema!=2.5.0,>=2.4 in /usr/local/lib/python3.7/dist-packages (from nbformat>=4.2.0->ipywidgets) (4.3.3)\n",
            "Requirement already satisfied: typing-extensions in /usr/local/lib/python3.7/dist-packages (from jsonschema!=2.5.0,>=2.4->nbformat>=4.2.0->ipywidgets) (3.10.0.2)\n",
            "Requirement already satisfied: importlib-metadata in /usr/local/lib/python3.7/dist-packages (from jsonschema!=2.5.0,>=2.4->nbformat>=4.2.0->ipywidgets) (4.10.0)\n",
            "Requirement already satisfied: importlib-resources>=1.4.0 in /usr/local/lib/python3.7/dist-packages (from jsonschema!=2.5.0,>=2.4->nbformat>=4.2.0->ipywidgets) (5.4.0)\n",
            "Requirement already satisfied: attrs>=17.4.0 in /usr/local/lib/python3.7/dist-packages (from jsonschema!=2.5.0,>=2.4->nbformat>=4.2.0->ipywidgets) (21.4.0)\n",
            "Requirement already satisfied: pyrsistent!=0.17.0,!=0.17.1,!=0.17.2,>=0.14.0 in /usr/local/lib/python3.7/dist-packages (from jsonschema!=2.5.0,>=2.4->nbformat>=4.2.0->ipywidgets) (0.18.0)\n",
            "Requirement already satisfied: zipp>=3.1.0 in /usr/local/lib/python3.7/dist-packages (from importlib-resources>=1.4.0->jsonschema!=2.5.0,>=2.4->nbformat>=4.2.0->ipywidgets) (3.7.0)\n",
            "Requirement already satisfied: wcwidth in /usr/local/lib/python3.7/dist-packages (from prompt-toolkit<2.0.0,>=1.0.4->ipython>=4.0.0->ipywidgets) (0.2.5)\n",
            "Requirement already satisfied: six>=1.9.0 in /usr/local/lib/python3.7/dist-packages (from prompt-toolkit<2.0.0,>=1.0.4->ipython>=4.0.0->ipywidgets) (1.15.0)\n",
            "Requirement already satisfied: notebook>=4.4.1 in /usr/local/lib/python3.7/dist-packages (from widgetsnbextension~=3.5.0->ipywidgets) (5.3.1)\n",
            "Requirement already satisfied: nbconvert in /usr/local/lib/python3.7/dist-packages (from notebook>=4.4.1->widgetsnbextension~=3.5.0->ipywidgets) (5.6.1)\n",
            "Requirement already satisfied: Send2Trash in /usr/local/lib/python3.7/dist-packages (from notebook>=4.4.1->widgetsnbextension~=3.5.0->ipywidgets) (1.8.0)\n",
            "Requirement already satisfied: terminado>=0.8.1 in /usr/local/lib/python3.7/dist-packages (from notebook>=4.4.1->widgetsnbextension~=3.5.0->ipywidgets) (0.12.1)\n",
            "Requirement already satisfied: jinja2 in /usr/local/lib/python3.7/dist-packages (from notebook>=4.4.1->widgetsnbextension~=3.5.0->ipywidgets) (2.11.3)\n",
            "Requirement already satisfied: python-dateutil>=2.1 in /usr/local/lib/python3.7/dist-packages (from jupyter-client->ipykernel>=4.5.1->ipywidgets) (2.8.2)\n",
            "Requirement already satisfied: pyzmq>=13 in /usr/local/lib/python3.7/dist-packages (from jupyter-client->ipykernel>=4.5.1->ipywidgets) (22.3.0)\n",
            "Requirement already satisfied: ptyprocess in /usr/local/lib/python3.7/dist-packages (from terminado>=0.8.1->notebook>=4.4.1->widgetsnbextension~=3.5.0->ipywidgets) (0.7.0)\n",
            "Requirement already satisfied: MarkupSafe>=0.23 in /usr/local/lib/python3.7/dist-packages (from jinja2->notebook>=4.4.1->widgetsnbextension~=3.5.0->ipywidgets) (2.0.1)\n",
            "Requirement already satisfied: testpath in /usr/local/lib/python3.7/dist-packages (from nbconvert->notebook>=4.4.1->widgetsnbextension~=3.5.0->ipywidgets) (0.5.0)\n",
            "Requirement already satisfied: entrypoints>=0.2.2 in /usr/local/lib/python3.7/dist-packages (from nbconvert->notebook>=4.4.1->widgetsnbextension~=3.5.0->ipywidgets) (0.3)\n",
            "Requirement already satisfied: pandocfilters>=1.4.1 in /usr/local/lib/python3.7/dist-packages (from nbconvert->notebook>=4.4.1->widgetsnbextension~=3.5.0->ipywidgets) (1.5.0)\n",
            "Requirement already satisfied: bleach in /usr/local/lib/python3.7/dist-packages (from nbconvert->notebook>=4.4.1->widgetsnbextension~=3.5.0->ipywidgets) (4.1.0)\n",
            "Requirement already satisfied: defusedxml in /usr/local/lib/python3.7/dist-packages (from nbconvert->notebook>=4.4.1->widgetsnbextension~=3.5.0->ipywidgets) (0.7.1)\n",
            "Requirement already satisfied: mistune<2,>=0.8.1 in /usr/local/lib/python3.7/dist-packages (from nbconvert->notebook>=4.4.1->widgetsnbextension~=3.5.0->ipywidgets) (0.8.4)\n",
            "Requirement already satisfied: packaging in /usr/local/lib/python3.7/dist-packages (from bleach->nbconvert->notebook>=4.4.1->widgetsnbextension~=3.5.0->ipywidgets) (21.3)\n",
            "Requirement already satisfied: webencodings in /usr/local/lib/python3.7/dist-packages (from bleach->nbconvert->notebook>=4.4.1->widgetsnbextension~=3.5.0->ipywidgets) (0.5.1)\n",
            "Requirement already satisfied: pyparsing!=3.0.5,>=2.0.2 in /usr/local/lib/python3.7/dist-packages (from packaging->bleach->nbconvert->notebook>=4.4.1->widgetsnbextension~=3.5.0->ipywidgets) (3.0.6)\n"
          ]
        }
      ]
    },
    {
      "cell_type": "code",
      "source": [
        "from google.colab import output\n",
        "output.enable_custom_widget_manager()"
      ],
      "metadata": {
        "id": "GpM4igtjrpP1"
      },
      "execution_count": null,
      "outputs": []
    },
    {
      "cell_type": "code",
      "source": [
        "import json\n",
        "import numpy as np\n",
        "from sklearn.preprocessing import normalize\n",
        "import matplotlib.pyplot as plt"
      ],
      "metadata": {
        "id": "pQ7ytVvPse6e"
      },
      "execution_count": null,
      "outputs": []
    },
    {
      "cell_type": "code",
      "source": [
        "from ipywidgets import interact, interactive, HBox, VBox\n",
        "import ipywidgets as widgets"
      ],
      "metadata": {
        "id": "RGcUl7q0sbQe"
      },
      "execution_count": null,
      "outputs": []
    },
    {
      "cell_type": "code",
      "execution_count": null,
      "metadata": {
        "id": "xmh3oKxUrFSO"
      },
      "outputs": [],
      "source": [
        "from ipycanvas import Canvas, hold_canvas\n"
      ]
    },
    {
      "cell_type": "code",
      "source": [
        "from google.colab import drive\n",
        "drive.mount('/content/drive/')"
      ],
      "metadata": {
        "colab": {
          "base_uri": "https://localhost:8080/"
        },
        "id": "Zeh-SHrB5udP",
        "outputId": "86103015-e492-4a55-a807-1c5830d790f1"
      },
      "execution_count": null,
      "outputs": [
        {
          "output_type": "stream",
          "name": "stdout",
          "text": [
            "Mounted at /content/drive/\n"
          ]
        }
      ]
    },
    {
      "cell_type": "code",
      "source": [
        "with open('./drive/MyDrive/data.json', 'r') as oldDataFile:\n",
        "  oldData = json.loads(oldDataFile.read())"
      ],
      "metadata": {
        "id": "CXk0mLiNsspt"
      },
      "execution_count": null,
      "outputs": []
    },
    {
      "cell_type": "code",
      "source": [
        "canvas = Canvas(width=600, height=300)\n",
        "canvas.layout.width = f'{canvas.width}px'\n",
        "canvas.layout.height = f'{canvas.height}px'"
      ],
      "metadata": {
        "id": "UNLWOQvIrG91"
      },
      "execution_count": null,
      "outputs": []
    },
    {
      "cell_type": "code",
      "source": [
        "byNickname = {}\n",
        "\n",
        "for signature in oldData['signatures']:\n",
        "  nickname = signature['nickname']\n",
        "\n",
        "  if nickname not in byNickname:\n",
        "    byNickname[nickname] = []\n",
        "\n",
        "  byNickname[nickname].append(signature['data'])"
      ],
      "metadata": {
        "id": "XROSDdNfr4W1"
      },
      "execution_count": null,
      "outputs": []
    },
    {
      "cell_type": "code",
      "source": [
        "def rotationMatrix(theta = np.pi / 2):\n",
        "  cos, sin = np.cos(theta), np.sin(theta)\n",
        "\n",
        "  return np.array(\n",
        "    (\n",
        "      (cos, -sin),\n",
        "      (sin,  cos)\n",
        "    )\n",
        "  )"
      ],
      "metadata": {
        "id": "kMjD7yQa8o30"
      },
      "execution_count": null,
      "outputs": []
    },
    {
      "cell_type": "code",
      "source": [
        "def oldDataArray(nickname, index):\n",
        "  basicArray = np.array([\n",
        "          (row['x'], row['y'], row['ti'], row['ty'])\n",
        "          for row in byNickname[nickname][index]\n",
        "  ])\n",
        "\n",
        "  tyCount = 0\n",
        "  tys = basicArray[:, 3]\n",
        "  lastTy = tys[0]\n",
        "\n",
        "  for i in range(1, len(tys)):\n",
        "    ty = tys[i]\n",
        "\n",
        "    if lastTy != ty:\n",
        "      tyCount += 1\n",
        "      tys[i - 1] = tyCount\n",
        "\n",
        "    tys[i] = tyCount\n",
        "    lastTy = ty\n",
        "\n",
        "  basicArray[:, 3] = tys\n",
        "\n",
        "  rotate90 = rotationMatrix()\n",
        "  R = rotate90\n",
        "\n",
        "  basicArray[:, 0:2] = basicArray[:, 0:2] @ R\n",
        "\n",
        "  xCoords = basicArray[:, 0]\n",
        "  yCoords = basicArray[:, 1]\n",
        "\n",
        "  # Calculate the gradient of straightline of best fit & take x-axis gradient.\n",
        "  incline = np.polyfit(xCoords, yCoords, 1)[0]\n",
        "\n",
        "  # Calculate Radians from gradient and take negative for straightening transform.\n",
        "  inclineRadians = np.arctan(incline)*1\n",
        "\n",
        "  straightenR = rotationMatrix(inclineRadians)\n",
        "  basicArray[:, 0:2] = basicArray[:, 0:2] @ straightenR\n",
        "\n",
        "  w, h = basicArray[:, 0:2].max(axis = 0) - basicArray[:, 0:2].min(axis = 0)\n",
        "  ratio = w/h\n",
        "\n",
        "  normalizeTillColumn = 4\n",
        "  basicArray[:, 0:normalizeTillColumn] = basicArray[:, 0:normalizeTillColumn] - basicArray[:, 0:normalizeTillColumn].min(axis = 0)\n",
        "  basicArray[:, 0:normalizeTillColumn] = basicArray[:, 0:normalizeTillColumn] / basicArray[:, 0:normalizeTillColumn].max(axis = 0)\n",
        "\n",
        "  return (basicArray, ratio)"
      ],
      "metadata": {
        "id": "9VgxldVF1rD6"
      },
      "execution_count": null,
      "outputs": []
    },
    {
      "cell_type": "code",
      "source": [
        "def midTimeDebug(data, n):\n",
        "  tis = data[:, 2]\n",
        "  given_ti = n\n",
        "  end_point = np.searchsorted(tis, given_ti)\n",
        "  end_point_vti = data[end_point, 2]\n",
        "  start_point_vti = data[end_point - 1, 2]\n",
        "  start_d_point = data[end_point-1];\n",
        "  end_d_point = data[end_point]\n",
        "  div = (given_ti - start_point_vti) / (end_point_vti - start_point_vti)\n",
        "  new_point_x = div * start_d_point[0] + (1-div) * end_d_point[0]\n",
        "  new_point_y = div * start_d_point[1] + (1-div) * end_d_point[1]\n",
        "  \n",
        "  new_point = [new_point_x, new_point_y, given_ti, start_d_point[3]]\n",
        "  new_point = [round(x, 5) for x in new_point]\n",
        "  return new_point, (start_d_point, end_d_point)"
      ],
      "metadata": {
        "id": "MyGOehfySGfX"
      },
      "execution_count": null,
      "outputs": []
    },
    {
      "cell_type": "code",
      "source": [
        "def normalizeByTime(data, n):\n",
        "  return np.array([ midTime(data, (1/n) * x) for x in range(1,n)])\n"
      ],
      "metadata": {
        "id": "HqDZETiUnjWD"
      },
      "execution_count": null,
      "outputs": []
    },
    {
      "cell_type": "code",
      "source": [
        "def drawExtendedEdge(canvas, data, i):\n",
        "  xi, yi, tii, peni = data[i]\n",
        "  xj, yj, tij, penj = data[i + 1]\n",
        "  magnitude = np.sqrt((xj - xi)**2 + (yj - yi) ** 2)\n",
        "  slope = (yj - yi) / (xj - xi)\n",
        "  c_val = yj - (slope * xj)\n",
        "  direction = np.arctan((yj-yi)/(xj-xi))\n",
        "  unit_vec = [xj - xi, yj - yi] / magnitude\n",
        "  unit_vec = unit_vec * 0.08\n",
        "  xj = xj + unit_vec[0]\n",
        "  yj = slope * xj + c_val\n",
        "  return xj, yj\n",
        "  \n"
      ],
      "metadata": {
        "id": "rPWc1lkQ7kGW"
      },
      "execution_count": null,
      "outputs": []
    },
    {
      "cell_type": "code",
      "source": [
        "def midTime(data, n):\n",
        "  tis = data[:, 2]\n",
        "  given_ti = n\n",
        "  end_point = np.searchsorted(tis, given_ti)\n",
        "  end_point_vti = data[end_point, 2]\n",
        "  start_point_vti = data[end_point - 1, 2]\n",
        "  start_d_point = data[end_point-1];\n",
        "  end_d_point = data[end_point]\n",
        "  div = (given_ti - start_point_vti) / (end_point_vti - start_point_vti)\n",
        "\n",
        "  # start = xu, end = xv, div = r\n",
        "  # r*xu + (1-r)*xv\n",
        "  # (xv - xu)*r + xu === xu*(1-r) + xv*r\n",
        "  new_point_x = (end_d_point[0] - start_d_point[0])*div + start_d_point[0]\n",
        "  new_point_y = (end_d_point[1] - start_d_point[1])*div + start_d_point[1]\n",
        "  \n",
        "  new_point = [new_point_x, new_point_y, given_ti, start_d_point[3]]\n",
        "  new_point = [round(x, 5) for x in new_point]\n",
        "  return new_point\n",
        "\n",
        "\n",
        "data, ratio = oldDataArray('OMRAN', 0)\n",
        "tmp, point2 = midTimeDebug(data, 0.75)\n",
        "# p_data\n",
        "# data\n",
        "# data = data[10:]\n",
        "tn = 100\n",
        "p_data = normalizeByTime(data, tn)\n",
        "plt.plot(data[:,0], data[:,1], 'r-')\n",
        "plt.plot(p_data[:,0], p_data[:,1], 'g-')\n",
        "print(f\"tn = {tn}\")\n",
        "# t_data = np.array([ midTime(data, 0.01 * x) for x in range(1,100)])\n",
        "# plt.plot(t_data[:,0], t_data[:,1], 'bo')"
      ],
      "metadata": {
        "colab": {
          "base_uri": "https://localhost:8080/",
          "height": 282
        },
        "id": "eyI2CoZquu_e",
        "outputId": "4fde879f-1d6f-48e6-87ef-9c1586b40b7a"
      },
      "execution_count": 70,
      "outputs": [
        {
          "output_type": "stream",
          "name": "stdout",
          "text": [
            "tn = 100\n"
          ]
        },
        {
          "output_type": "display_data",
          "data": {
            "image/png": "[encoded data removed]",
            "text/plain": [
              "<Figure size 432x288 with 1 Axes>"
            ]
          },
          "metadata": {
            "needs_background": "light"
          }
        }
      ]
    },
    {
      "cell_type": "code",
      "source": [
        "import math\n",
        "def distance(p1, p2):\n",
        "  return math.sqrt( ((p1[0]-p2[0])**2)+((p1[1]-p2[1])**2) )\n",
        "\n",
        "def cumulativeDistance(data):\n",
        "  data = np.pad(data, ((0, 0), (0, 1)), mode='constant', constant_values=0)\n",
        "  c_data = data\n",
        "  sum = 0\n",
        "  for i in range(0, len(data) -1):\n",
        "    c_data[i][4] = sum\n",
        "    next_point = [c_data[i+1][0], c_data[i+1][1]]\n",
        "    current_point = [c_data[i][0], c_data[i][1]]\n",
        "    sum += distance(current_point, next_point)\n",
        "  return c_data\n",
        "\n",
        "c_data = cumulativeDistance(data)\n",
        "c_data"
      ],
      "metadata": {
        "colab": {
          "base_uri": "https://localhost:8080/"
        },
        "id": "HfxI-JZvHN3w",
        "outputId": "6bc22a5d-1e13-4e6e-8f58-9490d03110e6"
      },
      "execution_count": 38,
      "outputs": [
        {
          "output_type": "execute_result",
          "data": {
            "text/plain": [
              "array([[0.12365285, 0.93001063, 0.        , 0.        , 0.        ],\n",
              "       [0.09927301, 0.87798401, 0.02897259, 0.        , 0.0574556 ],\n",
              "       [0.04553527, 0.73723121, 0.03565857, 0.        , 0.20811779],\n",
              "       [0.03484636, 0.70572889, 0.0361043 , 0.        , 0.24138412],\n",
              "       [0.02193709, 0.6405146 , 0.03989302, 0.        , 0.30786384],\n",
              "       [0.01294461, 0.59235072, 0.04390461, 0.        , 0.35686001],\n",
              "       [0.00424523, 0.52742815, 0.04747047, 0.        , 0.42236283],\n",
              "       [0.        , 0.44883159, 0.05103633, 0.        , 0.50107395],\n",
              "       [0.00117251, 0.38179661, 0.05482505, 0.        , 0.56811918],\n",
              "       [0.01613363, 0.32969939, 0.05839091, 0.        , 0.62232209]])"
            ]
          },
          "metadata": {},
          "execution_count": 38
        }
      ]
    },
    {
      "cell_type": "code",
      "source": [
        "def normalizeByDistance(data, n):\n",
        "  c_data = cumulativeDistance(data)\n",
        "  total_distance = c_data[-2][4]\n",
        "  print(f'total distance: {total_distance}')\n",
        "  return np.array([ midDistance(c_data, (total_distance/n) * x) for x in range(1,n)])\n",
        "\n",
        "def midDistance(data, n):\n",
        "  dis = data[:, 4]\n",
        "  given_di = n\n",
        "  end_point = np.searchsorted(dis, given_di)\n",
        "  end_point_vdi = data[end_point, 4]\n",
        "  start_point_vdi = data[end_point - 1, 4]\n",
        "  start_d_point = data[end_point-1];\n",
        "  end_d_point = data[end_point]\n",
        "  div = (given_di - start_point_vdi) / (end_point_vdi - start_point_vdi)\n",
        "\n",
        "  new_point_x = (end_d_point[0] - start_d_point[0])*div + start_d_point[0]\n",
        "  new_point_y = (end_d_point[1] - start_d_point[1])*div + start_d_point[1]\n",
        "  \n",
        "  new_point = [new_point_x, new_point_y, start_d_point[2], start_d_point[3], given_di]\n",
        "  new_point = [round(x, 5) for x in new_point]\n",
        "  return new_point\n",
        "\n",
        "\n",
        "data, ratio = oldDataArray('OMRAN', 0)\n",
        "# c_data = cumulativeDistance(data)\n",
        "# n_point, start, end = midDistance(c_data, 1.95)\n",
        "dn = 50\n",
        "n_point = normalizeByDistance(data, dn)\n",
        "plt.plot(data[:,0], data[:,1], 'g-')\n",
        "plt.plot(n_point[:, 0], n_point[:, 1], 'bo')\n",
        "# plt.plot(start[0], start[1], 'rx')\n",
        "# plt.plot(end[0], end[1], 'rx')\n",
        "print(f\"dn = {dn}\")"
      ],
      "metadata": {
        "colab": {
          "base_uri": "https://localhost:8080/",
          "height": 300
        },
        "id": "EclctqkNjeGu",
        "outputId": "4828c0a5-9e29-429d-e193-7bd113772be3"
      },
      "execution_count": 65,
      "outputs": [
        {
          "output_type": "stream",
          "name": "stdout",
          "text": [
            "total distance: 9.173689481580551\n",
            "dn = 50\n"
          ]
        },
        {
          "output_type": "display_data",
          "data": {
            "image/png": "[encoded data removed]",
            "text/plain": [
              "<Figure size 432x288 with 1 Axes>"
            ]
          },
          "metadata": {
            "needs_background": "light"
          }
        }
      ]
    },
    {
      "cell_type": "code",
      "source": [
        "nicknameSelector = widgets.Dropdown(\n",
        "    options=tuple(byNickname.keys()),\n",
        "    description='Nicknames: ',\n",
        ")\n",
        "\n",
        "signatureSelector = widgets.Dropdown(\n",
        "    options=tuple(range(0, len(byNickname[nicknameSelector.value]))),\n",
        "    description='Sign: ',\n",
        ")\n",
        "\n",
        "speedSelector = widgets.FloatSlider(\n",
        "    value=1,\n",
        "    min=0.3,\n",
        "    max=10.0,\n",
        "    description='Speed (s): ',\n",
        ")\n",
        "\n",
        "animateButton = widgets.Button(\n",
        "    description='Animate'\n",
        ")\n",
        "\n",
        "def render(animate = False):\n",
        "  canvas.clear()\n",
        "\n",
        "  nickname = nicknameSelector.value\n",
        "  index = int(signatureSelector.value)\n",
        "\n",
        "  data, ratio = oldDataArray(nickname, index)\n",
        "  data = data[7:14]\n",
        "  # calculate gradient\n",
        "\n",
        "  # data = normalizedByTime(data);\n",
        "\n",
        "  if ratio > (canvas.width / canvas.height):\n",
        "    width = canvas.width\n",
        "    height = canvas.width / ratio\n",
        "    yOffset = (canvas.height - height) / 2\n",
        "    xOffset = 0\n",
        "\n",
        "  else:\n",
        "    height = canvas.height\n",
        "    width = height * ratio\n",
        "    yOffset = 0\n",
        "    xOffset = (canvas.width - width) / 2\n",
        "\n",
        "\n",
        "  with hold_canvas(canvas):\n",
        "    for i in range(len(data) - 1):\n",
        "      xi, yi, tii, peni = data[i]\n",
        "      xj, yj, tij, penj = data[i + 1]\n",
        "      magnitude = np.sqrt((xj - xi)**2 + (yj - yi) ** 2)\n",
        "      slope = (yj - yi) / (xj - xi)\n",
        "      c_val = yj - (slope * xj)\n",
        "      direction = np.arctan((yj-yi)/(xj-xi))\n",
        "      unit_vec = [xj - xi, yj - yi] / magnitude\n",
        "      canvas.stroke_style = f'hsl({tii * 27000}, 100%, 50%)';\n",
        "      canvas.font = '15px serif'\n",
        "      # print(f'{i} - ti={tii}, m=({slope}) delT={tij-tii}')\n",
        "      # print(f'{unit_vec}')\n",
        "      # canvas.stroke_text(f'm=({slope}) delT={tij-tii} dir={np.degrees(direction)}', 10, 32 + 32 * i)\n",
        "      canvas.begin_path()\n",
        "      canvas.stroke_style = f'hsl({tii * 5100}, 100%, 50%)';\n",
        "\n",
        "      canvas.move_to(\n",
        "          xOffset + xi * width,\n",
        "          yOffset + yi * height\n",
        "      )\n",
        "\n",
        "      \n",
        "      # canvas.move_to(\n",
        "      #     xOffset + 10 + xi * width,\n",
        "      #     yOffset + 10 + yi * height\n",
        "      # )\n",
        "\n",
        "      # canvas.line_to(\n",
        "      #     xOffset + 10 + xj * width,\n",
        "      #     yOffset + 10 + yj * height\n",
        "      # )\n",
        "\n",
        "      extended_x, extended_y = drawExtendedEdge(canvas, data, i);\n",
        "      canvas.line_to(\n",
        "          xOffset + extended_x * width,\n",
        "          yOffset + extended_y * height\n",
        "      )\n",
        "      \n",
        "      canvas.stroke()\n",
        "      canvas.close_path()\n",
        "\n",
        "      if animate:\n",
        "        canvas.sleep(\n",
        "            float(speedSelector.value) * 1000 * (tij - tii)\n",
        "        )\n",
        "\n",
        "\n",
        "def chooseNickname(nickname):\n",
        "  signatureSelector.options = tuple(range(0, len(byNickname[nickname])))\n",
        "  signatureSelector.value = 0\n",
        "\n",
        "def chooseSignature(index):\n",
        "  render()\n",
        "\n",
        "def animate(_):\n",
        "  render(True)\n",
        "\n",
        "\n",
        "nicknameSelectorInteractive = interactive(chooseNickname, nickname = nicknameSelector)\n",
        "signatureSelectorInteractive = interactive(chooseSignature, index = signatureSelector)\n",
        "animateButton.on_click(animate)\n",
        "\n",
        "VBox([\n",
        "      HBox([nicknameSelectorInteractive, signatureSelectorInteractive, speedSelector, animateButton]),\n",
        "      canvas\n",
        "])"
      ],
      "metadata": {
        "id": "3nSzCy4bv7FJ",
        "colab": {
          "base_uri": "https://localhost:8080/",
          "height": 349,
          "referenced_widgets": [
            "792c74d170da4ba1a5b7b6f57ebda87b",
            "5b585f3fbbec4ce68dbb2175b804aacd",
            "9e9bf902b3cc4d9786f3c10a7db94747",
            "77abba478a7e45adb4e91194c471e286",
            "5eb503d4e205473eb181fd176209a3a7",
            "d1ab93ac709946b088bbae7be58a4682",
            "efc4ee7bf32f4e9b8bc2a2e087697f82",
            "aea2fc18b59b43bb9202cc978aa80509",
            "3427f8d7fb6a4128a08d17feba29cf74",
            "e6406d9fe7c248f489370aff58adfb56",
            "8c46d72e47824d3a9c7ae71a51b06105",
            "277031c0df5c43fa881a47d337bb809f",
            "c7633b64220d4242a457e40f148c65a3",
            "816005d7491a488e92c8809a5c141a40",
            "3101508041824dca96304771c4a6c196",
            "4274a1ce3c3b4dbbafb82d765c6832c6",
            "b44ddb04fba64019b3d53cdf94fda52d",
            "90f595f9297c4578ae46bb8baf4f9dcf",
            "dc41355a60044d0cbb54021f6f7e7d93",
            "8fd3c3f525dc43d88531bb69bd7688cb",
            "25eadef5353d4513a94f1306c61b70b6",
            "74cb9aea558c480eadf589936c839528",
            "6881c1a072c0441aa68169eea9e25a89",
            "43efdb9cc7f14004bb34e928c2d4f16a",
            "3ad1d9ff083147e7bf2f6ddd9a48e49d",
            "594ee46cf2c54775856df768de0d9bd2"
          ]
        },
        "outputId": "0579658c-125c-49e5-c24e-5c024262821b"
      },
      "execution_count": null,
      "outputs": [
        {
          "output_type": "display_data",
          "data": {
            "application/vnd.jupyter.widget-view+json": {
              "model_id": "792c74d170da4ba1a5b7b6f57ebda87b",
              "version_minor": 0,
              "version_major": 2
            },
            "text/plain": [
              "VBox(children=(HBox(children=(interactive(children=(Dropdown(description='Nicknames: ', options=('OMRAN', 'RUM…"
            ]
          },
          "metadata": {
            "application/vnd.jupyter.widget-view+json": {
              "colab": {
                "custom_widget_manager": {
                  "url": "https://ssl.gstatic.com/colaboratory-static/widgets/colab-cdn-widget-manager/a8874ba6619b6106/manager.min.js"
                }
              }
            }
          }
        }
      ]
    }
  ]
}